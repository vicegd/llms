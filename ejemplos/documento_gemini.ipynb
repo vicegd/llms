{
 "cells": [
  {
   "cell_type": "markdown",
   "id": "24ed0295-6f5e-4b2f-9601-c3239ca3652a",
   "metadata": {},
   "source": [
    "# DOCUMENTOS con Gemini\n",
    "\n",
    "## Importaciones"
   ]
  },
  {
   "cell_type": "code",
   "execution_count": 1,
   "id": "4e2a9393-7767-488e-a8bf-27c12dca35bd",
   "metadata": {},
   "outputs": [],
   "source": [
    "import os\n",
    "from dotenv import load_dotenv\n",
    "import google.generativeai as genai\n",
    "import io\n",
    "import pathlib, base64, httpx"
   ]
  },
  {
   "cell_type": "markdown",
   "id": "6900b2a8-6384-4316-8aaa-5e519fca4254",
   "metadata": {},
   "source": [
    "## Clave de la API"
   ]
  },
  {
   "cell_type": "code",
   "execution_count": 2,
   "id": "7b87cadb-d513-4303-baee-a37b6f938e4d",
   "metadata": {},
   "outputs": [
    {
     "name": "stdout",
     "output_type": "stream",
     "text": [
      "Se ha encontrado la clave de la API correctamente\n"
     ]
    }
   ],
   "source": [
    "# Cargamos las variables de entorno desde .env e inicialiÇzamos la constante API_KEY\n",
    "load_dotenv(override=True)\n",
    "API_KEY = os.getenv('GEMINI_API_KEY') #si se llama así, no hace falta introducirla en el constructor de OpenAI\n",
    "\n",
    "if not API_KEY:\n",
    "    print(\"ERROR: No se ha encontrado la clave de la API\")\n",
    "else:\n",
    "    print(\"Se ha encontrado la clave de la API correctamente\")"
   ]
  },
  {
   "cell_type": "markdown",
   "id": "f5da740c-4ee7-41ac-9935-90558f6f85c1",
   "metadata": {},
   "source": [
    "## Iniciación"
   ]
  },
  {
   "cell_type": "code",
   "execution_count": 3,
   "id": "019974d9-f3ad-4a8a-b5f9-0a3719aea2d3",
   "metadata": {},
   "outputs": [],
   "source": [
    "MODEL_NAME = \"gemini-1.5-flash\"\n",
    "genai.configure(api_key=API_KEY) "
   ]
  },
  {
   "cell_type": "code",
   "execution_count": 4,
   "id": "4c984928-e7b5-4bbd-9ad1-020c2f53c9c3",
   "metadata": {},
   "outputs": [],
   "source": [
    "system_prompt = \"Utiliza un tono amable\"\n",
    "#system_prompt = \"Utiliza un tono enfadado\""
   ]
  },
  {
   "cell_type": "code",
   "execution_count": 5,
   "id": "4e166f69-e1ed-4727-b561-01c009ffc079",
   "metadata": {},
   "outputs": [],
   "source": [
    "model = genai.GenerativeModel(\n",
    "    model_name = MODEL_NAME,\n",
    "    system_instruction = system_prompt,\n",
    "    #generation_config = genai.GenerationConfig(\n",
    "    #    max_output_tokens = 1000,\n",
    "    #    temperature = 0.1,\n",
    "    #),\n",
    ")"
   ]
  },
  {
   "cell_type": "markdown",
   "id": "d06e8d78-ce4c-4b05-aa8e-17050c82bb47",
   "metadata": {},
   "source": [
    "## Un documento en local"
   ]
  },
  {
   "cell_type": "code",
   "execution_count": 6,
   "id": "10d98118-df78-44e1-b0df-a187a37a9ce1",
   "metadata": {},
   "outputs": [],
   "source": [
    "doc = pathlib.Path('recursos/paper.pdf').read_bytes()"
   ]
  },
  {
   "cell_type": "code",
   "execution_count": 7,
   "id": "2d53d40a-69b6-4172-85c4-817d8dd09e15",
   "metadata": {},
   "outputs": [],
   "source": [
    "user_prompt = \"Por favor, explícame que hay en el documento. Trata de detallar tanto como puedas. Además ponle un título\""
   ]
  },
  {
   "cell_type": "code",
   "execution_count": 8,
   "id": "905b9919-aba7-45b5-ae65-81b3d1d78e34",
   "metadata": {},
   "outputs": [],
   "source": [
    "response = model.generate_content([{'mime_type':'application/pdf', 'data': doc}, user_prompt])"
   ]
  },
  {
   "cell_type": "code",
   "execution_count": 9,
   "id": "f3f0c9d4-1922-4e70-8a9c-350371dd75c3",
   "metadata": {},
   "outputs": [
    {
     "name": "stdout",
     "output_type": "stream",
     "text": [
      "Claro que sí. Aquí tienes un resumen detallado del documento que has proporcionado, incluyendo un título sugerido:\n",
      "\n",
      "**Título sugerido:** Guía para la elaboración de artículos científicos de investigación.\n",
      "\n",
      "**Resumen:**\n",
      "\n",
      "Este documento es una guía paso a paso para escribir un artículo científico de investigación, dirigido especialmente a principiantes en la escritura científica. Los autores, Elena Henríquez Fierro y María Inés Zepeda González, explican cada etapa del proceso de redacción, desde el título hasta las referencias bibliográficas.  El artículo está escrito en español e incluye un resumen y un abstract en inglés.\n",
      "\n",
      "**Puntos clave que se tratan en el documento:**\n",
      "\n",
      "* **Título:**  Se recomiendan las mejores prácticas para crear un título conciso, informativo y preciso, que no exceda las 15 palabras y que incluya las palabras clave del estudio.\n",
      "\n",
      "* **Autores:** Se explica cómo presentar adecuadamente la información sobre los autores, incluyendo sus afiliaciones y correo electrónico de contacto.\n",
      "\n",
      "* **Resumen (Abstract):** Se describe la estructura y el contenido que debe tener un buen resumen, que sea conciso y autoexplicativo (no más de 250 palabras).\n",
      "\n",
      "* **Introducción:** Se explica la importancia de presentar claramente el propósito del estudio, la justificación, los objetivos y el marco teórico.\n",
      "\n",
      "* **Metodología:** Esta sección detalla cómo describir el diseño del estudio, incluyendo el tipo de muestreo (aleatorio o no aleatorio), el tamaño de la muestra, las variables y los métodos de recolección y análisis de datos. Se presta especial atención a las consideraciones éticas (consentimiento informado).\n",
      "\n",
      "* **Resultados:** Aquí se enfatiza la importancia de presentar los resultados de manera objetiva, clara y precisa, utilizando tablas y gráficos para complementar el texto, pero sin interpretaciones ni juicios de valor.\n",
      "\n",
      "* **Discusión y Conclusiones:** La guía explica cómo interpretar los resultados, compararlos con investigaciones anteriores y llegar a conclusiones bien argumentadas. Se destaca la importancia de reconocer las limitaciones del estudio.\n",
      "\n",
      "* **Referencias Bibliográficas:** Finalmente, se detallan las normas para la presentación de las referencias bibliográficas, incluyendo el número mínimo de referencias (al menos 30) y la proporcionalidad en cuanto a la fecha de publicación.\n",
      "\n",
      "**En resumen, este documento proporciona una guía práctica y completa para escribir un artículo científico de investigación, cubriendo cada aspecto del proceso, desde la concepción de la idea hasta la presentación final.**\n",
      "\n",
      "¿Hay algo más específico que te gustaría saber sobre el documento?\n",
      "\n"
     ]
    }
   ],
   "source": [
    "print(response.text)"
   ]
  },
  {
   "cell_type": "markdown",
   "id": "8ac423c1-01e7-499d-a10b-ca7b019e59b0",
   "metadata": {},
   "source": [
    "## Un PDF en remoto"
   ]
  },
  {
   "cell_type": "code",
   "execution_count": 10,
   "id": "cad7a999-bf02-4a30-b034-fdcee5234044",
   "metadata": {},
   "outputs": [],
   "source": [
    "doc_path = \"https://www.turismoasturias.es/documents/39908/3871406/Casonas%20Asturianas.pdf\"\n",
    "doc = base64.b64encode(httpx.get(doc_path).content).decode(\"utf-8\")"
   ]
  },
  {
   "cell_type": "code",
   "execution_count": 11,
   "id": "efb24f04-66d9-4198-b3bb-d7fe7613a80a",
   "metadata": {},
   "outputs": [],
   "source": [
    "user_prompt = \"Por favor, resume el documento\""
   ]
  },
  {
   "cell_type": "code",
   "execution_count": 12,
   "id": "ed5a2379-6b3b-4357-941c-20ddc9f43ecb",
   "metadata": {},
   "outputs": [],
   "source": [
    "response = model.generate_content([{'mime_type':'application/pdf', 'data': doc}, user_prompt])"
   ]
  },
  {
   "cell_type": "code",
   "execution_count": 13,
   "id": "6b52df7f-48d3-49eb-a606-fcd6834f6d1d",
   "metadata": {},
   "outputs": [
    {
     "name": "stdout",
     "output_type": "stream",
     "text": [
      "Claro. Este es un resumen del folleto de Casonas Asturianas:\n",
      "\n",
      "El folleto es una guía de los hoteles rurales de Asturias. Hay una introducción a la región y luego una lista de hoteles, clasificados por región (occidente, centro y oriente). Cada hotel tiene una breve descripción, incluyendo el número de estrellas, las instalaciones, el entorno y la información de contacto. También incluye fotos de cada hotel. Hay mapas que muestran la ubicación de cada hotel.\n",
      "\n",
      "¿Hay algo más en lo que pueda ayudarte?\n"
     ]
    }
   ],
   "source": [
    "print(response.text)"
   ]
  },
  {
   "cell_type": "markdown",
   "id": "835b0e31-b512-450e-9f67-a8c40a956cdb",
   "metadata": {},
   "source": [
    "## Un PDF en la API de File"
   ]
  },
  {
   "cell_type": "code",
   "execution_count": 14,
   "id": "beccb396-5cd4-4c3e-ae44-0d7731b4ab8d",
   "metadata": {},
   "outputs": [],
   "source": [
    "doc_path = \"https://www.turismoasturias.es/documents/39908/3871406/Casonas%20Asturianas.pdf\"\n",
    "doc = io.BytesIO(httpx.get(doc_path).content) #la API espera el archivo como entrada e BytesIO da una representación del archivo en memoria en lugar de en disco\n",
    "doc_file = genai.upload_file(path=doc, mime_type='application/pdf')"
   ]
  },
  {
   "cell_type": "code",
   "execution_count": 15,
   "id": "3288ea17-828f-4db3-b43c-f96137a33bcd",
   "metadata": {},
   "outputs": [],
   "source": [
    "user_prompt = \"Por favor, resume el documento\""
   ]
  },
  {
   "cell_type": "code",
   "execution_count": 16,
   "id": "f90e0fce-cffa-4229-be00-8c56b1ea48eb",
   "metadata": {},
   "outputs": [],
   "source": [
    "response = model.generate_content(\n",
    "    [doc_file, user_prompt], #pueden ponerse varios documentos\n",
    ")"
   ]
  },
  {
   "cell_type": "code",
   "execution_count": 17,
   "id": "48b52d79-13a5-4d52-a0c5-ee8a6b8bb9a4",
   "metadata": {},
   "outputs": [
    {
     "name": "stdout",
     "output_type": "stream",
     "text": [
      "Claro que sí. El documento es un catálogo para el Club de Calidad Casonas Asturianas. Describe los alojamientos del club, ofreciendo fotografías y explicaciones de sus comodidades y ubicación. También ofrece una breve descripción de las áreas del oeste y del este de Asturias donde se encuentran los hoteles, haciendo hincapié en los aspectos culturales y turísticos de las zonas.\n"
     ]
    }
   ],
   "source": [
    "print(response.text)"
   ]
  },
  {
   "cell_type": "markdown",
   "id": "4e79580b-5be4-41db-adeb-1759a93c8b61",
   "metadata": {},
   "source": [
    "## Ver archivos subidos a la plataforma"
   ]
  },
  {
   "cell_type": "code",
   "execution_count": 18,
   "id": "fe5e9e93-4def-4c5b-9b2b-fb95c92d924a",
   "metadata": {},
   "outputs": [
    {
     "name": "stdout",
     "output_type": "stream",
     "text": [
      "   genai.File({\n",
      "    'name': 'files/og9qcck4nl2b',\n",
      "    'display_name': '',\n",
      "    'mime_type': 'application/pdf',\n",
      "    'sha256_hash': 'Y2JmZTAxZTIyZWEzYmFhNTAzOGJkZjAyNWQzZDNjNzRiYzVhZmY2MTA0OGRlZTcwZmViMmUwZTgwMzJmMWE1Mg==',\n",
      "    'size_bytes': '6596651',\n",
      "    'state': 'ACTIVE',\n",
      "    'uri': 'https://generativelanguage.googleapis.com/v1beta/files/og9qcck4nl2b',\n",
      "    'create_time': '2025-02-09T13:58:43.807878Z',\n",
      "    'expiration_time': '2025-02-11T13:58:43.724667262Z',\n",
      "    'update_time': '2025-02-09T13:58:43.807878Z'})\n"
     ]
    }
   ],
   "source": [
    "for f in genai.list_files():\n",
    "    print(\"  \", f)"
   ]
  },
  {
   "cell_type": "markdown",
   "id": "ad248abd-dbef-488c-aadc-37815a1032e4",
   "metadata": {},
   "source": [
    "## Borrar archivos subidos"
   ]
  },
  {
   "cell_type": "code",
   "execution_count": 19,
   "id": "c06d8a21-98f9-4ebc-9352-9c9696c2aedf",
   "metadata": {},
   "outputs": [],
   "source": [
    "for f in genai.list_files():\n",
    "    f.delete()"
   ]
  },
  {
   "cell_type": "markdown",
   "id": "e79a4102-894f-4a61-8bbe-7ed2b813c2d0",
   "metadata": {},
   "source": [
    "## Ver archivos subidos"
   ]
  },
  {
   "cell_type": "code",
   "execution_count": 20,
   "id": "d4d7856c-1b35-4b59-8afc-10a878113204",
   "metadata": {},
   "outputs": [],
   "source": [
    "for f in genai.list_files():\n",
    "    print(\"  \", f.name)"
   ]
  }
 ],
 "metadata": {
  "kernelspec": {
   "display_name": "Python 3 (ipykernel)",
   "language": "python",
   "name": "python3"
  },
  "language_info": {
   "codemirror_mode": {
    "name": "ipython",
    "version": 3
   },
   "file_extension": ".py",
   "mimetype": "text/x-python",
   "name": "python",
   "nbconvert_exporter": "python",
   "pygments_lexer": "ipython3",
   "version": "3.11.11"
  }
 },
 "nbformat": 4,
 "nbformat_minor": 5
}
