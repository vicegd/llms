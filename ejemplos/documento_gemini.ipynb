{
 "cells": [
  {
   "cell_type": "markdown",
   "id": "24ed0295-6f5e-4b2f-9601-c3239ca3652a",
   "metadata": {},
   "source": [
    "# DOCUMENTOS con Gemini\n",
    "\n",
    "## Importaciones"
   ]
  },
  {
   "cell_type": "code",
   "execution_count": 1,
   "id": "4e2a9393-7767-488e-a8bf-27c12dca35bd",
   "metadata": {},
   "outputs": [],
   "source": [
    "import os\n",
    "from dotenv import load_dotenv\n",
    "import google.generativeai as genai\n",
    "import io\n",
    "import pathlib, base64, httpx"
   ]
  },
  {
   "cell_type": "markdown",
   "id": "6900b2a8-6384-4316-8aaa-5e519fca4254",
   "metadata": {},
   "source": [
    "## Clave de la API"
   ]
  },
  {
   "cell_type": "code",
   "execution_count": 2,
   "id": "7b87cadb-d513-4303-baee-a37b6f938e4d",
   "metadata": {},
   "outputs": [
    {
     "name": "stdout",
     "output_type": "stream",
     "text": [
      "Se ha encontrado la clave de la API correctamente\n"
     ]
    }
   ],
   "source": [
    "# Cargamos las variables de entorno desde .env e inicialiÇzamos la constante API_KEY\n",
    "load_dotenv(override=True)\n",
    "API_KEY = os.getenv('GEMINI_API_KEY') #si se llama así, no hace falta introducirla en el constructor de OpenAI\n",
    "\n",
    "if not API_KEY:\n",
    "    print(\"ERROR: No se ha encontrado la clave de la API\")\n",
    "else:\n",
    "    print(\"Se ha encontrado la clave de la API correctamente\")"
   ]
  },
  {
   "cell_type": "markdown",
   "id": "f5da740c-4ee7-41ac-9935-90558f6f85c1",
   "metadata": {},
   "source": [
    "## Iniciación"
   ]
  },
  {
   "cell_type": "code",
   "execution_count": 3,
   "id": "019974d9-f3ad-4a8a-b5f9-0a3719aea2d3",
   "metadata": {},
   "outputs": [],
   "source": [
    "MODEL_NAME = \"gemini-1.5-flash\"\n",
    "genai.configure(api_key=API_KEY) "
   ]
  },
  {
   "cell_type": "code",
   "execution_count": 4,
   "id": "4c984928-e7b5-4bbd-9ad1-020c2f53c9c3",
   "metadata": {},
   "outputs": [],
   "source": [
    "system_prompt = \"Utiliza un tono amable\"\n",
    "#system_prompt = \"Utiliza un tono enfadado\""
   ]
  },
  {
   "cell_type": "code",
   "execution_count": 5,
   "id": "4e166f69-e1ed-4727-b561-01c009ffc079",
   "metadata": {},
   "outputs": [],
   "source": [
    "model = genai.GenerativeModel(\n",
    "    model_name = MODEL_NAME,\n",
    "    system_instruction = system_prompt,\n",
    "    #generation_config = genai.GenerationConfig(\n",
    "    #    max_output_tokens = 1000,\n",
    "    #    temperature = 0.1,\n",
    "    #),\n",
    ")"
   ]
  },
  {
   "cell_type": "markdown",
   "id": "d06e8d78-ce4c-4b05-aa8e-17050c82bb47",
   "metadata": {},
   "source": [
    "## Un documento en local"
   ]
  },
  {
   "cell_type": "code",
   "execution_count": 6,
   "id": "10d98118-df78-44e1-b0df-a187a37a9ce1",
   "metadata": {},
   "outputs": [],
   "source": [
    "doc = pathlib.Path('recursos/paper.pdf').read_bytes()"
   ]
  },
  {
   "cell_type": "code",
   "execution_count": 7,
   "id": "2d53d40a-69b6-4172-85c4-817d8dd09e15",
   "metadata": {},
   "outputs": [],
   "source": [
    "user_prompt = \"Por favor, explícame que hay en el documento. Trata de detallar tanto como puedas. Además ponle un título\""
   ]
  },
  {
   "cell_type": "code",
   "execution_count": 8,
   "id": "905b9919-aba7-45b5-ae65-81b3d1d78e34",
   "metadata": {},
   "outputs": [],
   "source": [
    "response = model.generate_content([{'mime_type':'application/pdf', 'data': doc}, user_prompt])"
   ]
  },
  {
   "cell_type": "code",
   "execution_count": 9,
   "id": "f3f0c9d4-1922-4e70-8a9c-350371dd75c3",
   "metadata": {},
   "outputs": [
    {
     "name": "stdout",
     "output_type": "stream",
     "text": [
      "Claro que sí, aquí tienes una descripción detallada del documento proporcionado.\n",
      "\n",
      "**Título:** Elaboración de un Artículo Científico de Investigación: Una Guía Paso a Paso\n",
      "\n",
      "**Descripción del Documento:**\n",
      "\n",
      "Este documento es un artículo científico en español que proporciona una guía detallada para escribir un artículo científico que reporte una investigación. Está dirigido a quienes se inician en la escritura científica y se divide en las siguientes secciones:\n",
      "\n",
      "* **Resumen y Abstract:** Resumen en español e inglés de los objetivos y contenido del artículo.\n",
      "\n",
      "* **Introducción:**  Explica el objetivo del artículo, que es guiar paso a paso en la escritura de un artículo científico, destacando los aspectos más relevantes.  Se discute la importancia de comunicar los resultados de la investigación para integrar conocimientos a la práctica profesional. También se abordan algunos mitos sobre publicaciones científicas y se indica la dificultad de la etapa final de la investigación (comunicación de resultados).\n",
      "\n",
      "* **Del Título:** Esta sección proporciona directrices para crear un título claro, conciso (máximo 15 palabras), descriptivo y que refleje el contenido del estudio.\n",
      "\n",
      "* **De los Autores:** Aquí se explican las normas para la presentación de la información de los autores: nombres completos, afiliaciones institucionales, etc.\n",
      "\n",
      "* **Del Resumen:** Explica las características que debe tener un resumen (máximo 250 palabras) incluyendo los objetivos, metodología, resultados y conclusiones.\n",
      "\n",
      "* **Metodología:** Esta es la parte principal del artículo y se divide en:\n",
      "    * **Diseño:** Se describe la importancia de un diseño apropiado para el objetivo de estudio. Se explica la necesidad de especificar el tipo de diseño (experimental, cuantitativo, cualitativo), unidad de análisis, y procedimiento para la recolección de datos.\n",
      "    * **Población y muestra:** Define la población diana, población accesible, y tipo de muestreo.\n",
      "    * **Consideraciones éticas:** Se enfatiza la necesidad de obtener consentimiento informado y la importancia de la revisión ética del proyecto de investigación.\n",
      "    * **Recolección de datos:** Se detalla cómo se deben describir los procedimientos para la recolección de los datos.\n",
      "    * **Análisis de datos:** Explica la importancia de la selección de las técnicas estadísticas apropiadas para el análisis de los datos y la necesidad de justificar la elección de los procedimientos estadísticos.\n",
      "\n",
      "* **Resultados:**  Describe cómo presentar los resultados de una manera clara y concisa, sin juicios de valor ni justificaciones. Se enfatiza la importancia del orden lógico en la presentación de los resultados (de lo más a lo menos importante) y se recomienda el uso de tablas y gráficos para complementar el texto.\n",
      "\n",
      "* **Discusión y Conclusiones:** Se explica cómo se debe estructurar la discusión, incluyendo la comparación con estudios previos, las implicaciones teóricas y prácticas, y las limitaciones del estudio.  Las conclusiones deben responder a los objetivos del estudio.\n",
      "\n",
      "* **Bibliografía:**  Proporciona pautas para la correcta elaboración de la bibliografía, incluyendo el número y tipos de referencias requeridos.  Incluye varias referencias bibliográficas como ejemplos.\n",
      "\n",
      "En resumen, el documento sirve como guía práctica y completa para la elaboración de un artículo científico de investigación, cubriendo desde la concepción del título hasta la presentación de los resultados y conclusiones.\n",
      "\n"
     ]
    }
   ],
   "source": [
    "print(response.text)"
   ]
  },
  {
   "cell_type": "markdown",
   "id": "8ac423c1-01e7-499d-a10b-ca7b019e59b0",
   "metadata": {},
   "source": [
    "## Un PDF en remoto"
   ]
  },
  {
   "cell_type": "code",
   "execution_count": 10,
   "id": "cad7a999-bf02-4a30-b034-fdcee5234044",
   "metadata": {},
   "outputs": [],
   "source": [
    "doc_path = \"https://www.turismoasturias.es/documents/39908/3871406/Casonas%20Asturianas.pdf\"\n",
    "doc = base64.b64encode(httpx.get(doc_path).content).decode(\"utf-8\")"
   ]
  },
  {
   "cell_type": "code",
   "execution_count": 11,
   "id": "efb24f04-66d9-4198-b3bb-d7fe7613a80a",
   "metadata": {},
   "outputs": [],
   "source": [
    "user_prompt = \"Por favor, resume el documento\""
   ]
  },
  {
   "cell_type": "code",
   "execution_count": 12,
   "id": "ed5a2379-6b3b-4357-941c-20ddc9f43ecb",
   "metadata": {},
   "outputs": [],
   "source": [
    "response = model.generate_content([{'mime_type':'application/pdf', 'data': doc}, user_prompt])"
   ]
  },
  {
   "cell_type": "code",
   "execution_count": 13,
   "id": "6b52df7f-48d3-49eb-a606-fcd6834f6d1d",
   "metadata": {},
   "outputs": [
    {
     "name": "stdout",
     "output_type": "stream",
     "text": [
      "Claro, aquí hay un resumen del documento que proporcionaste:\n",
      "\n",
      "Este es un folleto para el Club de Calidad Casonas Asturianas, que presenta una colección de hoteles rurales de Asturias, España. El folleto está en español e inglés. Proporciona descripciones e imágenes de cada hotel, junto con información de contacto. El folleto también incluye un mapa que muestra la ubicación de cada hotel en Asturias.\n",
      "\n",
      "Espero que esto ayude. Avísame si necesitas algo más.\n"
     ]
    }
   ],
   "source": [
    "print(response.text)"
   ]
  },
  {
   "cell_type": "markdown",
   "id": "835b0e31-b512-450e-9f67-a8c40a956cdb",
   "metadata": {},
   "source": [
    "## Un PDF en la API de File"
   ]
  },
  {
   "cell_type": "code",
   "execution_count": 14,
   "id": "beccb396-5cd4-4c3e-ae44-0d7731b4ab8d",
   "metadata": {},
   "outputs": [],
   "source": [
    "doc_path = \"https://www.turismoasturias.es/documents/39908/3871406/Casonas%20Asturianas.pdf\"\n",
    "doc = io.BytesIO(httpx.get(doc_path).content) #la API espera el archivo como entrada e BytesIO da una representación del archivo en memoria en lugar de en disco\n",
    "doc_file = genai.upload_file(path=doc, mime_type='application/pdf')"
   ]
  },
  {
   "cell_type": "code",
   "execution_count": 15,
   "id": "3288ea17-828f-4db3-b43c-f96137a33bcd",
   "metadata": {},
   "outputs": [],
   "source": [
    "user_prompt = \"Por favor, resume el documento\""
   ]
  },
  {
   "cell_type": "code",
   "execution_count": 16,
   "id": "f90e0fce-cffa-4229-be00-8c56b1ea48eb",
   "metadata": {},
   "outputs": [],
   "source": [
    "response = model.generate_content(\n",
    "    [doc_file, user_prompt], #pueden ponerse varios documentos\n",
    ")"
   ]
  },
  {
   "cell_type": "code",
   "execution_count": 17,
   "id": "48b52d79-13a5-4d52-a0c5-ee8a6b8bb9a4",
   "metadata": {},
   "outputs": [
    {
     "name": "stdout",
     "output_type": "stream",
     "text": [
      "Claro, aquí tienes un resumen del folleto:\n",
      "\n",
      "Este folleto presenta el Club de Calidad Casonas Asturianas, una colección de hoteles rurales en Asturias, España. El folleto destaca la historia y la calidad de los hoteles, y describe las comodidades y las actividades que ofrecen. Además, proporciona una breve descripción de las diferentes regiones de Asturias y los hoteles que se encuentran en cada una de ellas. También incluye un mapa que muestra la ubicación de los hoteles.\n",
      "\n",
      "El folleto se dirige a los turistas que buscan una experiencia de lujo en un entorno rural. Es una herramienta de marketing que promociona el Club de Calidad Casonas Asturianas y sus hoteles miembros.\n"
     ]
    }
   ],
   "source": [
    "print(response.text)"
   ]
  },
  {
   "cell_type": "markdown",
   "id": "4e79580b-5be4-41db-adeb-1759a93c8b61",
   "metadata": {},
   "source": [
    "## Ver archivos subidos a la plataforma"
   ]
  },
  {
   "cell_type": "code",
   "execution_count": 18,
   "id": "fe5e9e93-4def-4c5b-9b2b-fb95c92d924a",
   "metadata": {},
   "outputs": [
    {
     "name": "stdout",
     "output_type": "stream",
     "text": [
      "   genai.File({\n",
      "    'name': 'files/lace3jx5gwtt',\n",
      "    'display_name': '',\n",
      "    'mime_type': 'application/pdf',\n",
      "    'sha256_hash': 'Y2JmZTAxZTIyZWEzYmFhNTAzOGJkZjAyNWQzZDNjNzRiYzVhZmY2MTA0OGRlZTcwZmViMmUwZTgwMzJmMWE1Mg==',\n",
      "    'size_bytes': '6596651',\n",
      "    'state': 'ACTIVE',\n",
      "    'uri': 'https://generativelanguage.googleapis.com/v1beta/files/lace3jx5gwtt',\n",
      "    'create_time': '2025-02-02T16:51:01.985315Z',\n",
      "    'expiration_time': '2025-02-04T16:51:01.923845342Z',\n",
      "    'update_time': '2025-02-02T16:51:01.985315Z'})\n",
      "   genai.File({\n",
      "    'name': 'files/rl30xamybg2k',\n",
      "    'display_name': '',\n",
      "    'mime_type': 'application/pdf',\n",
      "    'sha256_hash': 'Y2JmZTAxZTIyZWEzYmFhNTAzOGJkZjAyNWQzZDNjNzRiYzVhZmY2MTA0OGRlZTcwZmViMmUwZTgwMzJmMWE1Mg==',\n",
      "    'size_bytes': '6596651',\n",
      "    'state': 'ACTIVE',\n",
      "    'uri': 'https://generativelanguage.googleapis.com/v1beta/files/rl30xamybg2k',\n",
      "    'create_time': '2025-02-02T16:48:49.968209Z',\n",
      "    'expiration_time': '2025-02-04T16:48:49.913504251Z',\n",
      "    'update_time': '2025-02-02T16:48:49.968209Z'})\n"
     ]
    }
   ],
   "source": [
    "for f in genai.list_files():\n",
    "    print(\"  \", f)"
   ]
  },
  {
   "cell_type": "markdown",
   "id": "ad248abd-dbef-488c-aadc-37815a1032e4",
   "metadata": {},
   "source": [
    "## Borrar archivos subidos"
   ]
  },
  {
   "cell_type": "code",
   "execution_count": 19,
   "id": "c06d8a21-98f9-4ebc-9352-9c9696c2aedf",
   "metadata": {},
   "outputs": [],
   "source": [
    "for f in genai.list_files():\n",
    "    f.delete()"
   ]
  },
  {
   "cell_type": "markdown",
   "id": "e79a4102-894f-4a61-8bbe-7ed2b813c2d0",
   "metadata": {},
   "source": [
    "## Ver archivos subidos"
   ]
  },
  {
   "cell_type": "code",
   "execution_count": 20,
   "id": "d4d7856c-1b35-4b59-8afc-10a878113204",
   "metadata": {},
   "outputs": [],
   "source": [
    "for f in genai.list_files():\n",
    "    print(\"  \", f.name)"
   ]
  }
 ],
 "metadata": {
  "kernelspec": {
   "display_name": "Python 3 (ipykernel)",
   "language": "python",
   "name": "python3"
  },
  "language_info": {
   "codemirror_mode": {
    "name": "ipython",
    "version": 3
   },
   "file_extension": ".py",
   "mimetype": "text/x-python",
   "name": "python",
   "nbconvert_exporter": "python",
   "pygments_lexer": "ipython3",
   "version": "3.11.11"
  }
 },
 "nbformat": 4,
 "nbformat_minor": 5
}
