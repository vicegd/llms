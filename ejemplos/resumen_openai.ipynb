{
 "cells": [
  {
   "cell_type": "markdown",
   "id": "24ed0295-6f5e-4b2f-9601-c3239ca3652a",
   "metadata": {},
   "source": [
    "# RESUMEN con OpenAI\n",
    "\n",
    "## Importaciones"
   ]
  },
  {
   "cell_type": "code",
   "execution_count": 1,
   "id": "4e2a9393-7767-488e-a8bf-27c12dca35bd",
   "metadata": {},
   "outputs": [],
   "source": [
    "import os\n",
    "from dotenv import load_dotenv\n",
    "from openai import OpenAI\n",
    "from IPython.display import display, update_display #para trabajar con los streams"
   ]
  },
  {
   "cell_type": "markdown",
   "id": "6900b2a8-6384-4316-8aaa-5e519fca4254",
   "metadata": {},
   "source": [
    "## Clave de la API"
   ]
  },
  {
   "cell_type": "code",
   "execution_count": 2,
   "id": "7b87cadb-d513-4303-baee-a37b6f938e4d",
   "metadata": {},
   "outputs": [
    {
     "name": "stdout",
     "output_type": "stream",
     "text": [
      "Se ha encontrado la clave de la API correctamente\n"
     ]
    }
   ],
   "source": [
    "# Cargamos las variables de entorno desde .env e inicializamos la constante API_KEY\n",
    "load_dotenv(override=True)\n",
    "API_KEY = os.getenv('OPENAI_API_KEY') #si se llama así, no hace falta introducirla en el constructor de OpenAI\n",
    "\n",
    "if not API_KEY:\n",
    "    print(\"ERROR: No se ha encontrado la clave de la API\")\n",
    "else:\n",
    "    print(\"Se ha encontrado la clave de la API correctamente\")"
   ]
  },
  {
   "cell_type": "markdown",
   "id": "f5da740c-4ee7-41ac-9935-90558f6f85c1",
   "metadata": {},
   "source": [
    "## Nombre del modelo y conexión con la plataforma"
   ]
  },
  {
   "cell_type": "code",
   "execution_count": 3,
   "id": "019974d9-f3ad-4a8a-b5f9-0a3719aea2d3",
   "metadata": {},
   "outputs": [],
   "source": [
    "MODEL_NAME = \"gpt-4o-mini\"\n",
    "openai = OpenAI()"
   ]
  },
  {
   "cell_type": "markdown",
   "id": "6fbd815d-9266-47f4-a324-21b12775ab91",
   "metadata": {},
   "source": [
    "## Configuraciones"
   ]
  },
  {
   "cell_type": "code",
   "execution_count": 4,
   "id": "b0ac541d-3da8-40ae-b490-12b01a588d5a",
   "metadata": {},
   "outputs": [],
   "source": [
    "f = open(\"recursos/caperucita.txt\", mode=\"r\", encoding=\"utf-8\")\n",
    "text = f.read()"
   ]
  },
  {
   "cell_type": "code",
   "execution_count": 5,
   "id": "abdb8417-c5dc-44bc-9bee-2e059d162699",
   "metadata": {},
   "outputs": [],
   "source": [
    "system_prompt = \"Quiero que resumas en tres frases el texto que recibirás\""
   ]
  },
  {
   "cell_type": "code",
   "execution_count": 6,
   "id": "f0275b1b-7cfe-4f9d-abfa-7650d378da0c",
   "metadata": {},
   "outputs": [],
   "source": [
    "user_prompt = text"
   ]
  },
  {
   "cell_type": "code",
   "execution_count": 7,
   "id": "22f25b6e-d844-45cf-ba98-94f800372fb7",
   "metadata": {},
   "outputs": [
    {
     "name": "stdout",
     "output_type": "stream",
     "text": [
      "[{'role': 'system', 'content': 'Quiero que resumas en tres frases el texto que recibirás'}, {'role': 'user', 'content': '\\ufeffCaperucita Roja\\n\\nHabía una vez una niña pequeña llamada Caperucita Roja, porque siempre llevaba una caperuza roja que su abuela le había regalado. Un día, su madre le pidió que llevara una cesta con pan y miel a su abuela, que vivía al otro lado del bosque.\\n\\nAntes de partir, su madre le advirtió:\\n—Recuerda, Caperucita, no te detengas ni hables con extraños, y ve directamente a la casa de tu abuela.\\n\\nCaperucita Roja prometió obedecer y se adentró en el bosque. Mientras caminaba, recogía flores para su abuela, olvidando por un momento las advertencias de su madre.\\n\\nDe repente, apareció un lobo grande y astuto.\\n—Buenos días, Caperucita —dijo el lobo con una sonrisa—. ¿A dónde vas tan temprano?\\n—Voy a casa de mi abuelita —respondió Caperucita Roja sin sospechar nada—. Vive al final del bosque.\\n\\nEl lobo, que tenía hambre, ideó un plan.\\n—¿Por qué no recoges algunas flores más para tu abuela? Seguro que le encantarán —sugirió el lobo.\\n\\nMientras Caperucita seguía recogiendo flores, el lobo corrió hacia la casa de la abuela. Al llegar, fingió ser Caperucita Roja y, con su voz gruesa, dijo:\\n—¡Abuelita, ábreme la puerta!\\n\\nLa abuela, al ver al lobo, trató de esconderse, pero el lobo la atrapó y la encerró en un armario. Luego, se puso el camisón y las gafas de la abuela, y se metió en la cama a esperar a Caperucita Roja.\\n\\nPoco después, Caperucita llegó a la casa.\\n—¡Abuelita! —dijo mientras entraba—. Qué voz tan rara tienes.\\n—Es para saludarte mejor, querida —respondió el lobo, imitando a la abuela.\\n—¡Abuelita, qué ojos tan grandes tienes!\\n—Son para verte mejor, querida.\\n—¡Abuelita, qué orejas tan grandes tienes!\\n—Son para oírte mejor, querida.\\n—¡Abuelita, qué dientes tan grandes tienes!\\n—¡Son para comerte mejor!\\n\\nEl lobo saltó de la cama para atrapar a Caperucita, pero en ese momento, un cazador que pasaba por allí escuchó los gritos y entró corriendo a la casa. Con valentía, el cazador asustó al lobo y liberó a la abuela del armario.\\n\\nLa abuela, Caperucita y el cazador celebraron que estaban a salvo. Caperucita prometió no desobedecer a su madre nunca más, y todos vivieron felices.'}]\n"
     ]
    }
   ],
   "source": [
    "messages_prompt =  [\n",
    "        {\"role\": \"system\", \"content\": system_prompt},\n",
    "        {\"role\": \"user\", \"content\": user_prompt}\n",
    "    ]\n",
    "\n",
    "print(messages_prompt)"
   ]
  },
  {
   "cell_type": "markdown",
   "id": "d06e8d78-ce4c-4b05-aa8e-17050c82bb47",
   "metadata": {},
   "source": [
    "## Llamada a la API"
   ]
  },
  {
   "cell_type": "code",
   "execution_count": 8,
   "id": "905b9919-aba7-45b5-ae65-81b3d1d78e34",
   "metadata": {},
   "outputs": [],
   "source": [
    "response = openai.chat.completions.create(\n",
    "    model = MODEL_NAME,\n",
    "    messages = messages_prompt,\n",
    "    max_tokens = 1000, #cuestan dinero!\n",
    "    temperature = 0.1,\n",
    "    stream = True,\n",
    ")"
   ]
  },
  {
   "cell_type": "code",
   "execution_count": 9,
   "id": "78bbcfd0-6606-4194-bff1-bb606fcfd1b4",
   "metadata": {},
   "outputs": [
    {
     "data": {
      "text/plain": [
       "'Caperucita Roja, una niña que siempre llevaba una caperuza roja, fue enviada por su madre a llevar una cesta a su abuela, con la advertencia de no hablar con extraños. En el camino, se encontró con un lobo astuto que la engañó para que se detuviera y corrió a la casa de la abuela, donde la atrapó. Sin embargo, un cazador escuchó los gritos, rescató a la abuela y a Caperucita, y todos aprendieron la importancia de seguir las advertencias.'"
      ]
     },
     "metadata": {},
     "output_type": "display_data"
    }
   ],
   "source": [
    "r = \"\"\n",
    "display_handle = display(\"\", display_id=True) #display es para mostrar algo en la interfaz de Jupyter. Al principio la cadena vacía\n",
    "for chunk in response: #itera por todos los fragmentos de la respuesta\n",
    "    r += chunk.choices[0].delta.content or '' #accede al contenido del fragmento, aunque a veces pueda estar vacío \n",
    "    update_display(r, display_id=display_handle.display_id) #actualiza lo que se mostró inicialmente con display. Y le introduce el valor del nuevo fragmento"
   ]
  },
  {
   "cell_type": "code",
   "execution_count": null,
   "id": "c0e466cb-ce26-4326-8f3f-6d9e8fd99610",
   "metadata": {},
   "outputs": [],
   "source": []
  }
 ],
 "metadata": {
  "kernelspec": {
   "display_name": "Python 3 (ipykernel)",
   "language": "python",
   "name": "python3"
  },
  "language_info": {
   "codemirror_mode": {
    "name": "ipython",
    "version": 3
   },
   "file_extension": ".py",
   "mimetype": "text/x-python",
   "name": "python",
   "nbconvert_exporter": "python",
   "pygments_lexer": "ipython3",
   "version": "3.11.11"
  }
 },
 "nbformat": 4,
 "nbformat_minor": 5
}
