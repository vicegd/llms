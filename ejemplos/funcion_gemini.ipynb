{
 "cells": [
  {
   "cell_type": "markdown",
   "id": "24ed0295-6f5e-4b2f-9601-c3239ca3652a",
   "metadata": {},
   "source": [
    "# FUNCIONES con Gemini\n",
    "\n",
    "## Importaciones"
   ]
  },
  {
   "cell_type": "code",
   "execution_count": 40,
   "id": "4e2a9393-7767-488e-a8bf-27c12dca35bd",
   "metadata": {},
   "outputs": [],
   "source": [
    "import os\n",
    "from dotenv import load_dotenv\n",
    "import google.generativeai as genai\n",
    "import random"
   ]
  },
  {
   "cell_type": "markdown",
   "id": "6900b2a8-6384-4316-8aaa-5e519fca4254",
   "metadata": {},
   "source": [
    "## Clave de la API"
   ]
  },
  {
   "cell_type": "code",
   "execution_count": 41,
   "id": "7b87cadb-d513-4303-baee-a37b6f938e4d",
   "metadata": {},
   "outputs": [
    {
     "name": "stdout",
     "output_type": "stream",
     "text": [
      "Se ha encontrado la clave de la API correctamente\n"
     ]
    }
   ],
   "source": [
    "# Cargamos las variables de entorno desde .env e inicialiÇzamos la constante API_KEY\n",
    "load_dotenv(override=True)\n",
    "API_KEY = os.getenv('GEMINI_API_KEY') #si se llama así, no hace falta introducirla en el constructor de OpenAI\n",
    "\n",
    "if not API_KEY:\n",
    "    print(\"ERROR: No se ha encontrado la clave de la API\")\n",
    "else:\n",
    "    print(\"Se ha encontrado la clave de la API correctamente\")"
   ]
  },
  {
   "cell_type": "markdown",
   "id": "bf3a3414-698a-45d3-8e63-763ada3b1276",
   "metadata": {},
   "source": [
    "## Función externa"
   ]
  },
  {
   "cell_type": "code",
   "execution_count": 42,
   "id": "68c13bfb-b49d-41ea-8318-368c463114c6",
   "metadata": {},
   "outputs": [],
   "source": [
    "def give_random_number(min_value: int, max_value: int) -> int:\n",
    "    \"\"\"Devuelve un número aleatorio entre un valor mínimo (min_value) y un máximo (max_value)\n",
    "    \n",
    "    Args: \n",
    "        min_value: número mínimo del rango de valores\n",
    "        max_value: número máximo del rango de valores\n",
    "\n",
    "    Returns:\n",
    "        un número aleatorio entre min y max   \n",
    "    \"\"\"    \n",
    "    return random.randint(min_value, max_value)\n",
    "    #return random.randint(min_value+100, max_value+100)"
   ]
  },
  {
   "cell_type": "markdown",
   "id": "f5da740c-4ee7-41ac-9935-90558f6f85c1",
   "metadata": {},
   "source": [
    "## Iniciación"
   ]
  },
  {
   "cell_type": "code",
   "execution_count": 43,
   "id": "019974d9-f3ad-4a8a-b5f9-0a3719aea2d3",
   "metadata": {},
   "outputs": [],
   "source": [
    "MODEL_NAME = \"gemini-1.5-flash\"\n",
    "genai.configure(api_key=API_KEY) "
   ]
  },
  {
   "cell_type": "code",
   "execution_count": 44,
   "id": "4c984928-e7b5-4bbd-9ad1-020c2f53c9c3",
   "metadata": {},
   "outputs": [],
   "source": [
    "system_prompt = \"No expliques si los resultados de las funciones son incorrectos o no\""
   ]
  },
  {
   "cell_type": "code",
   "execution_count": 56,
   "id": "4e166f69-e1ed-4727-b561-01c009ffc079",
   "metadata": {},
   "outputs": [],
   "source": [
    "model = genai.GenerativeModel(\n",
    "    model_name = MODEL_NAME,\n",
    "    system_instruction = system_prompt,\n",
    "    tools = [give_random_number]\n",
    ")"
   ]
  },
  {
   "cell_type": "markdown",
   "id": "b0d930b8-5d7f-4655-8952-953b4972a867",
   "metadata": {},
   "source": [
    "## Llamada a función para dar un número aleatorio"
   ]
  },
  {
   "cell_type": "code",
   "execution_count": 57,
   "id": "909da9fa-ae8c-41e2-8cc6-05cbdd42db8c",
   "metadata": {},
   "outputs": [],
   "source": [
    "user_prompt = \"Dame un número aleatorio entre 10 y 349\"\n",
    "#user_prompt = \"¿Dónde está Madrid?\""
   ]
  },
  {
   "cell_type": "code",
   "execution_count": 58,
   "id": "fff9da4c-ced4-41c6-9076-9b2d89f39aaa",
   "metadata": {},
   "outputs": [],
   "source": [
    "response = model.start_chat(enable_automatic_function_calling=True).send_message(user_prompt)"
   ]
  },
  {
   "cell_type": "code",
   "execution_count": 59,
   "id": "691ae8c5-cd9b-4d0a-9e5a-36de53cd2835",
   "metadata": {},
   "outputs": [
    {
     "name": "stdout",
     "output_type": "stream",
     "text": [
      "El número aleatorio es 246.\n"
     ]
    }
   ],
   "source": [
    "print(response.text)"
   ]
  }
 ],
 "metadata": {
  "kernelspec": {
   "display_name": "Python 3 (ipykernel)",
   "language": "python",
   "name": "python3"
  },
  "language_info": {
   "codemirror_mode": {
    "name": "ipython",
    "version": 3
   },
   "file_extension": ".py",
   "mimetype": "text/x-python",
   "name": "python",
   "nbconvert_exporter": "python",
   "pygments_lexer": "ipython3",
   "version": "3.11.11"
  }
 },
 "nbformat": 4,
 "nbformat_minor": 5
}
