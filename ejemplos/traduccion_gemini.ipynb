{
 "cells": [
  {
   "cell_type": "markdown",
   "id": "24ed0295-6f5e-4b2f-9601-c3239ca3652a",
   "metadata": {},
   "source": [
    "# HOLA MUNDO con Gemini\n",
    "\n",
    "## Importaciones"
   ]
  },
  {
   "cell_type": "code",
   "execution_count": 1,
   "id": "4e2a9393-7767-488e-a8bf-27c12dca35bd",
   "metadata": {},
   "outputs": [],
   "source": [
    "import os #para obtener variables de entorno\n",
    "from dotenv import load_dotenv  #para cargar las variables de entorno\n",
    "import google.generativeai as genai #para trabajar con Gemini"
   ]
  },
  {
   "cell_type": "markdown",
   "id": "6900b2a8-6384-4316-8aaa-5e519fca4254",
   "metadata": {},
   "source": [
    "## Clave de la API"
   ]
  },
  {
   "cell_type": "code",
   "execution_count": 2,
   "id": "7b87cadb-d513-4303-baee-a37b6f938e4d",
   "metadata": {},
   "outputs": [
    {
     "name": "stdout",
     "output_type": "stream",
     "text": [
      "Se ha encontrado la clave de la API correctamente\n"
     ]
    }
   ],
   "source": [
    "# Cargamos las variables de entorno desde .env e inicialiÇzamos la constante API_KEY\n",
    "load_dotenv(override=True)\n",
    "API_KEY = os.getenv('GEMINI_API_KEY') #si se llama así, no hace falta introducirla en el constructor de OpenAI\n",
    "\n",
    "if not API_KEY:\n",
    "    print(\"ERROR: No se ha encontrado la clave de la API\")\n",
    "else:\n",
    "    print(\"Se ha encontrado la clave de la API correctamente\")"
   ]
  },
  {
   "cell_type": "markdown",
   "id": "f5da740c-4ee7-41ac-9935-90558f6f85c1",
   "metadata": {},
   "source": [
    "## Nombre del modelo y conexión con la plataforma"
   ]
  },
  {
   "cell_type": "code",
   "execution_count": 3,
   "id": "019974d9-f3ad-4a8a-b5f9-0a3719aea2d3",
   "metadata": {},
   "outputs": [],
   "source": [
    "MODEL_NAME = \"gemini-1.5-flash\"\n",
    "genai.configure(api_key=API_KEY) "
   ]
  },
  {
   "cell_type": "markdown",
   "id": "442fc84b-0815-4f40-99ab-d9a5da6bda91",
   "metadata": {},
   "source": [
    "## Primera llamada a la API"
   ]
  },
  {
   "cell_type": "code",
   "execution_count": 4,
   "id": "54d365b2-0598-43c1-af60-593713dfc5f1",
   "metadata": {},
   "outputs": [
    {
     "name": "stdout",
     "output_type": "stream",
     "text": [
      "¡Hola! ¡Un gusto saludarte también! ¿En qué te puedo ayudar hoy?\n",
      "\n"
     ]
    }
   ],
   "source": [
    "model = genai.GenerativeModel(MODEL_NAME)\n",
    "\n",
    "message = \"Hola Gemini. Quisiera saludarte\"\n",
    "\n",
    "response = model.generate_content(message)\n",
    "\n",
    "print(response.text)"
   ]
  },
  {
   "cell_type": "markdown",
   "id": "6a478a0c-2c53-48ff-869c-4d08199931e1",
   "metadata": {},
   "source": [
    "## Tipos de mensajes\n",
    "\n",
    "Los modelos esperan mensajes de una forma determinada:\n",
    "\n",
    "**Prompt de sistema**, que dan indicaciones de cómo ha de comportarse el sistema\n",
    "\n",
    "**Prompt de usuario**, que es el mensaje que le transmite el usuario al sistema"
   ]
  },
  {
   "cell_type": "code",
   "execution_count": 5,
   "id": "abdb8417-c5dc-44bc-9bee-2e059d162699",
   "metadata": {},
   "outputs": [],
   "source": [
    "system_prompt = \"Eres un traductor que traduce al inglés y al alemán todos los mensajes que recibes\""
   ]
  },
  {
   "cell_type": "code",
   "execution_count": 6,
   "id": "f0275b1b-7cfe-4f9d-abfa-7650d378da0c",
   "metadata": {},
   "outputs": [],
   "source": [
    "user_prompt = \"Tradúceme 'Érase una vez la vida'\""
   ]
  },
  {
   "cell_type": "markdown",
   "id": "d06e8d78-ce4c-4b05-aa8e-17050c82bb47",
   "metadata": {},
   "source": [
    "## Llamada a la API"
   ]
  },
  {
   "cell_type": "code",
   "execution_count": 7,
   "id": "905b9919-aba7-45b5-ae65-81b3d1d78e34",
   "metadata": {},
   "outputs": [
    {
     "name": "stdout",
     "output_type": "stream",
     "text": [
      "Aquí tienes las traducciones de \"Érase una vez la vida\":\n",
      "\n",
      "* **Inglés:** Once upon a time, there was life.  (o, más poéticamente: Once upon a time, life began.)\n",
      "\n",
      "* **Alemán:** Es war einmal das Leben. (o, más literal: Es gab einmal das Leben.)\n",
      "\n"
     ]
    }
   ],
   "source": [
    "model = genai.GenerativeModel(\n",
    "    model_name = MODEL_NAME,\n",
    "    system_instruction = system_prompt,\n",
    ")\n",
    "\n",
    "response = model.generate_content(\n",
    "    user_prompt,\n",
    "    generation_config = genai.GenerationConfig(\n",
    "        max_output_tokens = 1000,\n",
    "        temperature = 0.1,\n",
    "    )\n",
    ")\n",
    "\n",
    "print(response.text)"
   ]
  },
  {
   "cell_type": "code",
   "execution_count": null,
   "id": "8d71b043-4f9d-4a0e-9d27-ded876a1b24f",
   "metadata": {},
   "outputs": [],
   "source": []
  }
 ],
 "metadata": {
  "kernelspec": {
   "display_name": "Python 3 (ipykernel)",
   "language": "python",
   "name": "python3"
  },
  "language_info": {
   "codemirror_mode": {
    "name": "ipython",
    "version": 3
   },
   "file_extension": ".py",
   "mimetype": "text/x-python",
   "name": "python",
   "nbconvert_exporter": "python",
   "pygments_lexer": "ipython3",
   "version": "3.11.11"
  }
 },
 "nbformat": 4,
 "nbformat_minor": 5
}
