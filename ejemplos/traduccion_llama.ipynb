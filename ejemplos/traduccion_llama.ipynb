{
 "cells": [
  {
   "cell_type": "markdown",
   "id": "24ed0295-6f5e-4b2f-9601-c3239ca3652a",
   "metadata": {},
   "source": [
    "# HOLA MUNDO con Llama\n",
    "\n",
    "## Importaciones"
   ]
  },
  {
   "cell_type": "code",
   "execution_count": 1,
   "id": "4e2a9393-7767-488e-a8bf-27c12dca35bd",
   "metadata": {},
   "outputs": [],
   "source": [
    "import ollama #para trabajar con Llama"
   ]
  },
  {
   "cell_type": "markdown",
   "id": "f5da740c-4ee7-41ac-9935-90558f6f85c1",
   "metadata": {},
   "source": [
    "## Nombre del modelo"
   ]
  },
  {
   "cell_type": "code",
   "execution_count": 2,
   "id": "019974d9-f3ad-4a8a-b5f9-0a3719aea2d3",
   "metadata": {},
   "outputs": [],
   "source": [
    "MODEL_NAME = \"llama3.1\""
   ]
  },
  {
   "cell_type": "markdown",
   "id": "442fc84b-0815-4f40-99ab-d9a5da6bda91",
   "metadata": {},
   "source": [
    "## Primera llamada a la API"
   ]
  },
  {
   "cell_type": "code",
   "execution_count": 3,
   "id": "a58394bf-1e45-46af-9bfd-01e24da6f49a",
   "metadata": {},
   "outputs": [
    {
     "name": "stdout",
     "output_type": "stream",
     "text": [
      "¡Hola! Me alegra que hayas querido saludarme. ¿En qué puedo ayudarte hoy? ¿Tienes alguna pregunta, necesitas consejos o simplemente quieres charlar un rato? Estoy aquí para escucharte y ayudarte de cualquier manera que pueda. ¡Bienvenido a la conversación!\n"
     ]
    }
   ],
   "source": [
    "message = \"Hola OpenAI. Quisiera saludarte\"\n",
    "\n",
    "response = ollama.chat(\n",
    "    model = MODEL_NAME,\n",
    "    messages = [{\"role\":\"user\", \"content\":message}]\n",
    ")\n",
    "\n",
    "print(response[\"message\"][\"content\"])"
   ]
  },
  {
   "cell_type": "markdown",
   "id": "6a478a0c-2c53-48ff-869c-4d08199931e1",
   "metadata": {},
   "source": [
    "## Tipos de mensajes\n",
    "\n",
    "Los modelos esperan mensajes de una forma determinada:\n",
    "\n",
    "**Prompt de sistema**, que dan indicaciones de cómo ha de comportarse el sistema\n",
    "\n",
    "**Prompt de usuario**, que es el mensaje que le transmite el usuario al sistema"
   ]
  },
  {
   "cell_type": "code",
   "execution_count": 4,
   "id": "abdb8417-c5dc-44bc-9bee-2e059d162699",
   "metadata": {},
   "outputs": [],
   "source": [
    "system_prompt = \"Eres un traductor que traduce al inglés y al alemán todos los mensajes que recibes\""
   ]
  },
  {
   "cell_type": "code",
   "execution_count": 5,
   "id": "f0275b1b-7cfe-4f9d-abfa-7650d378da0c",
   "metadata": {},
   "outputs": [],
   "source": [
    "user_prompt = \"Tradúceme 'Érase una vez la vida'\""
   ]
  },
  {
   "cell_type": "code",
   "execution_count": 6,
   "id": "22f25b6e-d844-45cf-ba98-94f800372fb7",
   "metadata": {},
   "outputs": [
    {
     "name": "stdout",
     "output_type": "stream",
     "text": [
      "[{'role': 'system', 'content': 'Eres un traductor que traduce al inglés y al alemán todos los mensajes que recibes'}, {'role': 'user', 'content': \"Tradúceme 'Érase una vez la vida'\"}]\n"
     ]
    }
   ],
   "source": [
    "messages_prompt =  [\n",
    "        {\"role\": \"system\", \"content\": system_prompt},\n",
    "        {\"role\": \"user\", \"content\": user_prompt}\n",
    "    ]\n",
    "\n",
    "print(messages_prompt)"
   ]
  },
  {
   "cell_type": "markdown",
   "id": "d06e8d78-ce4c-4b05-aa8e-17050c82bb47",
   "metadata": {},
   "source": [
    "## Llamada a la API"
   ]
  },
  {
   "cell_type": "code",
   "execution_count": 23,
   "id": "905b9919-aba7-45b5-ae65-81b3d1d78e34",
   "metadata": {},
   "outputs": [
    {
     "name": "stdout",
     "output_type": "stream",
     "text": [
      "Aquí te dejo la traducción al inglés y al alemán:\n",
      "\n",
      "**Inglés:** Once Upon a Time was Life\n",
      "o más directamente: There Was Once Life (una opción más literal)\n",
      "\n",
      "**Alemán:** Einmal lebte das Leben\n"
     ]
    }
   ],
   "source": [
    "response = ollama.chat(\n",
    "    model = MODEL_NAME,\n",
    "    messages = messages_prompt,\n",
    "    options= {\n",
    "        \"temperature\":2\n",
    "    }\n",
    ")\n",
    "\n",
    "print(response[\"message\"][\"content\"])"
   ]
  }
 ],
 "metadata": {
  "kernelspec": {
   "display_name": "Python 3 (ipykernel)",
   "language": "python",
   "name": "python3"
  },
  "language_info": {
   "codemirror_mode": {
    "name": "ipython",
    "version": 3
   },
   "file_extension": ".py",
   "mimetype": "text/x-python",
   "name": "python",
   "nbconvert_exporter": "python",
   "pygments_lexer": "ipython3",
   "version": "3.11.11"
  }
 },
 "nbformat": 4,
 "nbformat_minor": 5
}
