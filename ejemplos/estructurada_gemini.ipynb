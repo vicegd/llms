{
 "cells": [
  {
   "cell_type": "markdown",
   "id": "24ed0295-6f5e-4b2f-9601-c3239ca3652a",
   "metadata": {},
   "source": [
    "# SALIDA ESTRUCTURADA con Gemini\n",
    "\n",
    "## Importaciones"
   ]
  },
  {
   "cell_type": "code",
   "execution_count": 23,
   "id": "4e2a9393-7767-488e-a8bf-27c12dca35bd",
   "metadata": {},
   "outputs": [],
   "source": [
    "import os, httpx, base64\n",
    "from dotenv import load_dotenv\n",
    "import google.generativeai as genai #specific provider library\n",
    "import enum\n",
    "import typing_extensions as typing"
   ]
  },
  {
   "cell_type": "markdown",
   "id": "6900b2a8-6384-4316-8aaa-5e519fca4254",
   "metadata": {},
   "source": [
    "## Clave de la API"
   ]
  },
  {
   "cell_type": "code",
   "execution_count": 2,
   "id": "7b87cadb-d513-4303-baee-a37b6f938e4d",
   "metadata": {},
   "outputs": [
    {
     "name": "stdout",
     "output_type": "stream",
     "text": [
      "Se ha encontrado la clave de la API correctamente\n"
     ]
    }
   ],
   "source": [
    "# Cargamos las variables de entorno desde .env e inicialiÇzamos la constante API_KEY\n",
    "load_dotenv(override=True)\n",
    "API_KEY = os.getenv('GEMINI_API_KEY') #si se llama así, no hace falta introducirla en el constructor de OpenAI\n",
    "\n",
    "if not API_KEY:\n",
    "    print(\"ERROR: No se ha encontrado la clave de la API\")\n",
    "else:\n",
    "    print(\"Se ha encontrado la clave de la API correctamente\")"
   ]
  },
  {
   "cell_type": "markdown",
   "id": "f5da740c-4ee7-41ac-9935-90558f6f85c1",
   "metadata": {},
   "source": [
    "## Iniciación"
   ]
  },
  {
   "cell_type": "code",
   "execution_count": 3,
   "id": "019974d9-f3ad-4a8a-b5f9-0a3719aea2d3",
   "metadata": {},
   "outputs": [],
   "source": [
    "MODEL_NAME = \"gemini-1.5-flash\"\n",
    "genai.configure(api_key=API_KEY) "
   ]
  },
  {
   "cell_type": "code",
   "execution_count": 4,
   "id": "4c984928-e7b5-4bbd-9ad1-020c2f53c9c3",
   "metadata": {},
   "outputs": [],
   "source": [
    "system_prompt = \"Devuelve siempre archivo JSON utilizando este esquema: País = {'latitud': str, 'longitud': str, 'habitantes': int, 'ciudades': list[str]}\""
   ]
  },
  {
   "cell_type": "code",
   "execution_count": 5,
   "id": "4e166f69-e1ed-4727-b561-01c009ffc079",
   "metadata": {},
   "outputs": [],
   "source": [
    "model = genai.GenerativeModel(\n",
    "    model_name = MODEL_NAME,\n",
    "    system_instruction = system_prompt,\n",
    "    generation_config = genai.GenerationConfig(\n",
    "        #max_output_tokens = 1000,\n",
    "        #temperature = 0.1,\n",
    "    ),\n",
    ")"
   ]
  },
  {
   "cell_type": "markdown",
   "id": "d06e8d78-ce4c-4b05-aa8e-17050c82bb47",
   "metadata": {},
   "source": [
    "## Recibir código JSON"
   ]
  },
  {
   "cell_type": "code",
   "execution_count": 6,
   "id": "2d53d40a-69b6-4172-85c4-817d8dd09e15",
   "metadata": {},
   "outputs": [],
   "source": [
    "user_prompt = \"Dime los países de la Unión Europea y para cada uno de ellos indícame las 3 principales ciudades\""
   ]
  },
  {
   "cell_type": "code",
   "execution_count": 7,
   "id": "905b9919-aba7-45b5-ae65-81b3d1d78e34",
   "metadata": {},
   "outputs": [],
   "source": [
    "response = model.generate_content(\n",
    "    user_prompt,\n",
    ")"
   ]
  },
  {
   "cell_type": "code",
   "execution_count": 8,
   "id": "9b5e987f-c1a4-4195-861f-a2b120aaca72",
   "metadata": {},
   "outputs": [
    {
     "name": "stdout",
     "output_type": "stream",
     "text": [
      "```json\n",
      "{\n",
      "  \"Austria\": {\n",
      "    \"latitud\": \"47.5162\",\n",
      "    \"longitud\": \"14.5501\",\n",
      "    \"habitantes\": 8939618,\n",
      "    \"ciudades\": [\"Vienna\", \"Graz\", \"Linz\"]\n",
      "  },\n",
      "  \"Bélgica\": {\n",
      "    \"latitud\": \"50.8333\",\n",
      "    \"longitud\": \"4.3333\",\n",
      "    \"habitantes\": 11654000,\n",
      "    \"ciudades\": [\"Bruselas\", \"Amberes\", \"Gante\"]\n",
      "  },\n",
      "  \"Bulgaria\": {\n",
      "    \"latitud\": \"42.6977\",\n",
      "    \"longitud\": \"23.3219\",\n",
      "    \"habitantes\": 6948445,\n",
      "    \"ciudades\": [\"Sofia\", \"Plovdiv\", \"Varna\"]\n",
      "  },\n",
      "  \"Croacia\": {\n",
      "    \"latitud\": \"45.8150\",\n",
      "    \"longitud\": \"15.9819\",\n",
      "    \"habitantes\": 4047200,\n",
      "    \"ciudades\": [\"Zagreb\", \"Split\", \"Rijeka\"]\n",
      "  },\n",
      "  \"Chipre\": {\n",
      "    \"latitud\": \"35.1264\",\n",
      "    \"longitud\": \"33.4299\",\n",
      "    \"habitantes\": 1220556,\n",
      "    \"ciudades\": [\"Nicosia\", \"Limassol\", \"Larnaca\"]\n",
      "  },\n",
      "  \"República Checa\": {\n",
      "    \"latitud\": \"49.8175\",\n",
      "    \"longitud\": \"15.4730\",\n",
      "    \"habitantes\": 10515000,\n",
      "    \"ciudades\": [\"Praga\", \"Brno\", \"Plzeň\"]\n",
      "  },\n",
      "  \"Dinamarca\": {\n",
      "    \"latitud\": \"56.2639\",\n",
      "    \"longitud\": \"9.5018\",\n",
      "    \"habitantes\": 5946984,\n",
      "    \"ciudades\": [\"Copenhague\", \"Aarhus\", \"Odense\"]\n",
      "  },\n",
      "  \"Estonia\": {\n",
      "    \"latitud\": \"58.5953\",\n",
      "    \"longitud\": \"25.0136\",\n",
      "    \"habitantes\": 1326535,\n",
      "    \"ciudades\": [\"Tallin\", \"Tartu\", \"Narva\"]\n",
      "  },\n",
      "  \"Finlandia\": {\n",
      "    \"latitud\": \"61.9241\",\n",
      "    \"longitud\": \"25.7482\",\n",
      "    \"habitantes\": 5519923,\n",
      "    \"ciudades\": [\"Helsinki\", \"Tampere\", \"Turku\"]\n",
      "  },\n",
      "  \"Francia\": {\n",
      "    \"latitud\": \"46.2276\",\n",
      "    \"longitud\": \"2.2137\",\n",
      "    \"habitantes\": 65273511,\n",
      "    \"ciudades\": [\"París\", \"Marsella\", \"Lyon\"]\n",
      "  },\n",
      "  \"Alemania\": {\n",
      "    \"latitud\": \"51.1657\",\n",
      "    \"longitud\": \"10.4515\",\n",
      "    \"habitantes\": 83240000,\n",
      "    \"ciudades\": [\"Berlín\", \"Hamburgo\", \"Múnich\"]\n",
      "  },\n",
      "  \"Grecia\": {\n",
      "    \"latitud\": \"39.0742\",\n",
      "    \"longitud\": \"21.8243\",\n",
      "    \"habitantes\": 10423054,\n",
      "    \"ciudades\": [\"Atenas\", \"Salónica\", \"Patras\"]\n",
      "  },\n",
      "  \"Hungría\": {\n",
      "    \"latitud\": \"47.1625\",\n",
      "    \"longitud\": \"19.5033\",\n",
      "    \"habitantes\": 9660351,\n",
      "    \"ciudades\": [\"Budapest\", \"Debrecen\", \"Szeged\"]\n",
      "  },\n",
      "  \"Irlanda\": {\n",
      "    \"latitud\": \"53.1424\",\n",
      "    \"longitud\": \"-7.6921\",\n",
      "    \"habitantes\": 4996000,\n",
      "    \"ciudades\": [\"Dublín\", \"Cork\", \"Galway\"]\n",
      "  },\n",
      "  \"Italia\": {\n",
      "    \"latitud\": \"42.6381\",\n",
      "    \"longitud\": \"12.6729\",\n",
      "    \"habitantes\": 59554023,\n",
      "    \"ciudades\": [\"Roma\", \"Milán\", \"Nápoles\"]\n",
      "  },\n",
      "  \"Letonia\": {\n",
      "    \"latitud\": \"56.8796\",\n",
      "    \"longitud\": \"24.6032\",\n",
      "    \"habitantes\": 1877200,\n",
      "    \"ciudades\": [\"Riga\", \"Daugavpils\", \"Liepāja\"]\n",
      "  },\n",
      "  \"Lituania\": {\n",
      "    \"latitud\": \"55.6761\",\n",
      "    \"longitud\": \"21.2657\",\n",
      "    \"habitantes\": 2650800,\n",
      "    \"ciudades\": [\"Vilna\", \"Kaunas\", \"Klaipėda\"]\n",
      "  },\n",
      "  \"Luxemburgo\": {\n",
      "    \"latitud\": \"49.8153\",\n",
      "    \"longitud\": \"6.1296\",\n",
      "    \"habitantes\": 642211,\n",
      "    \"ciudades\": [\"Luxemburgo\", \"Esch-sur-Alzette\", \"Differdange\"]\n",
      "  },\n",
      "  \"Malta\": {\n",
      "    \"latitud\": \"35.9375\",\n",
      "    \"longitud\": \"14.5001\",\n",
      "    \"habitantes\": 525283,\n",
      "    \"ciudades\": [\"La Valeta\", \"Birkirkara\", \"Qormi\"]\n",
      "  },\n",
      "  \"Países Bajos\": {\n",
      "    \"latitud\": \"52.1326\",\n",
      "    \"longitud\": \"5.2913\",\n",
      "    \"habitantes\": 17660000,\n",
      "    \"ciudades\": [\"Ámsterdam\", \"Róterdam\", \"La Haya\"]\n",
      "  },\n",
      "  \"Austria\": {\n",
      "    \"latitud\": \"47.5162\",\n",
      "    \"longitud\": \"14.5501\",\n",
      "    \"habitantes\": 8939618,\n",
      "    \"ciudades\": [\"Viena\", \"Graz\", \"Linz\"]\n",
      "  },\n",
      "  \"Polonia\": {\n",
      "    \"latitud\": \"51.9194\",\n",
      "    \"longitud\": \"19.1451\",\n",
      "    \"habitantes\": 37846611,\n",
      "    \"ciudades\": [\"Varsovia\", \"Cracovia\", \"Łódź\"]\n",
      "  },\n",
      "  \"Portugal\": {\n",
      "    \"latitud\": \"39.3999\",\n",
      "    \"longitud\": \"-8.2245\",\n",
      "    \"habitantes\": 10301000,\n",
      "    \"ciudades\": [\"Lisboa\", \"Oporto\", \"Braga\"]\n",
      "  },\n",
      "  \"Rumania\": {\n",
      "    \"latitud\": \"45.9432\",\n",
      "    \"longitud\": \"24.9668\",\n",
      "    \"habitantes\": 18923000,\n",
      "    \"ciudades\": [\"Bucarest\", \"Iaşi\", \"Cluj-Napoca\"]\n",
      "  },\n",
      "  \"Eslovaquia\": {\n",
      "    \"latitud\": \"48.6690\",\n",
      "    \"longitud\": \"19.6990\",\n",
      "    \"habitantes\": 5458580,\n",
      "    \"ciudades\": [\"Bratislava\", \"Košice\", \"Prešov\"]\n",
      "  },\n",
      "  \"Eslovenia\": {\n",
      "    \"latitud\": \"46.1512\",\n",
      "    \"longitud\": \"14.9955\",\n",
      "    \"habitantes\": 2089385,\n",
      "    \"ciudades\": [\"Liubliana\", \"Maribor\", \"Celje\"]\n",
      "  },\n",
      "  \"España\": {\n",
      "    \"latitud\": \"40.4637\",\n",
      "    \"longitud\": \"-3.7492\",\n",
      "    \"habitantes\": 47351567,\n",
      "    \"ciudades\": [\"Madrid\", \"Barcelona\", \"Valencia\"]\n",
      "  },\n",
      "  \"Suecia\": {\n",
      "    \"latitud\": \"60.1282\",\n",
      "    \"longitud\": \"18.6435\",\n",
      "    \"habitantes\": 10350000,\n",
      "    \"ciudades\": [\"Estocolmo\", \"Gotemburgo\", \"Malmö\"]\n",
      "  },\n",
      "  \"Reino Unido\": {\n",
      "    \"latitud\": \"55.3781\",\n",
      "    \"longitud\": \"-3.4360\",\n",
      "    \"habitantes\": 67886000,\n",
      "    \"ciudades\": [\"Londres\", \"Birmingham\", \"Leeds\"]\n",
      "  }\n",
      "}\n",
      "```\n",
      "\n"
     ]
    }
   ],
   "source": [
    "print(response.text)"
   ]
  },
  {
   "cell_type": "markdown",
   "id": "c3b612f8-56f2-4f1f-b324-990fe9a331f9",
   "metadata": {},
   "source": [
    "## Otra forma para JSON"
   ]
  },
  {
   "cell_type": "code",
   "execution_count": 9,
   "id": "88dd51a6-0ce9-43ad-af60-9716e7f5dbf3",
   "metadata": {},
   "outputs": [],
   "source": [
    "model = genai.GenerativeModel(\n",
    "    model_name = MODEL_NAME,\n",
    ")"
   ]
  },
  {
   "cell_type": "code",
   "execution_count": 10,
   "id": "c02e5937-73c2-4ce3-bfe9-ce3aef56ab00",
   "metadata": {},
   "outputs": [],
   "source": [
    "user_prompt = \"Dime los países de la Unión Europea y para cada uno de ellos indícame las 3 principales ciudades, latitud, longitud y habitantes\""
   ]
  },
  {
   "cell_type": "code",
   "execution_count": 11,
   "id": "36e05f86-7a1d-46a4-b793-c97668073289",
   "metadata": {},
   "outputs": [],
   "source": [
    "class Informacion(typing.TypedDict):\n",
    "    latitud: str\n",
    "    longitud: str\n",
    "    habitantes: int\n",
    "    ciudades: list[str]"
   ]
  },
  {
   "cell_type": "code",
   "execution_count": 12,
   "id": "76c3bdfe-7cf8-451b-8151-456c638f84d2",
   "metadata": {},
   "outputs": [],
   "source": [
    "class Pais(typing.TypedDict):\n",
    "    pais: str\n",
    "    info: Informacion"
   ]
  },
  {
   "cell_type": "code",
   "execution_count": 13,
   "id": "337eafed-3d41-4acc-8ceb-932d23ab651b",
   "metadata": {},
   "outputs": [],
   "source": [
    "response = model.generate_content(\n",
    "    user_prompt,\n",
    "    generation_config = genai.GenerationConfig(\n",
    "        response_mime_type = \"application/json\", response_schema = list[Pais]\n",
    "    ),\n",
    ")"
   ]
  },
  {
   "cell_type": "code",
   "execution_count": 14,
   "id": "25ad8692-d6a7-4e1e-90e4-3dea9d4b57c5",
   "metadata": {},
   "outputs": [
    {
     "name": "stdout",
     "output_type": "stream",
     "text": [
      "[{\"pais\": \"Alemania”, \"},{ \"info\": {\"ciudades\": [\"Berlín\", \"Hamburgo\", \"Munich\"], \"habitantes\": 83783942, \"latitud\": \"51.165691\", \"longitud\": \"10.451526\"}}, {\"pais\": \"Austria”, \"},{ \"info\": {\"ciudades\": [\"Viena\", \"Graz\", \"Linz\"], \"habitantes\": 9000000, \"latitud\": \"48.208174\", \"longitud\": \"16.373819\"}}, {\"pais\": \"Bélgica”, \"},{ \"info\": {\"ciudades\": [\"Bruselas\", \"Amberes\", \"Gante\"], \"habitantes\": 11500000, \"latitud\": \"50.833333\", \"longitud\": \"4.333333\"}}, {\"pais\": \"Bulgaria”, \"},{ \"info\": {\"ciudades\": [\"Sofia\", \"Plovdiv\", \"Varna\"], \"habitantes\": 7000000, \"latitud\": \"42.6977\", \"longitud\": \"23.3219\"}}, {\"pais\": \"Chipre”, \"},{ \"info\": {\"ciudades\": [\"Nicosia\", \"Limasol\", \"Larnaca\"], \"habitantes\": 1200000, \"latitud\": \"35.1264\", \"longitud\": \"33.4299\"}}, {\"pais\": \"Croacia”, \"},{ \"info\": {\"ciudades\": [\"Zagreb\", \"Split\", \"Rijeka\"], \"habitantes\": 4000000, \"latitud\": \"45.8150\", \"longitud\": \"15.9819\"}}, {\"pais\": \"Dinamarca”, \"},{ \"info\": {\"ciudades\": [\"Copenhague\", \"Aarhus\", \"Odense\"], \"habitantes\": 5800000, \"latitud\": \"55.676097\", \"longitud\": \"12.568337\"}}, {\"pais\": \"Eslovaquia”, \"},{ \"info\": {\"ciudades\": [\"Bratislava\", \"Kosice\", \"Zilina\"], \"habitantes\": 5450000, \"latitud\": \"48.1485\", \"longitud\": \"17.1077\"}}, {\"pais\": \"Eslovenia”, \"},{ \"info\": {\"ciudades\": [\"Liubliana\", \"Maribor\", \"Celje\"], \"habitantes\": 2100000, \"latitud\": \"46.0569\", \"longitud\": \"14.5058\"}}, {\"pais\": \"España”, \"},{ \"info\": {\"ciudades\": [\"Madrid\", \"Barcelona\", \"Valencia\"], \"habitantes\": 47351567, \"latitud\": \"40.416775\", \"longitud\": \"-3.70379\"}}, {\"pais\": \"Estonia”, \"},{ \"info\": {\"ciudades\": [\"Tallin\", \"Tartu\", \"Narva\"], \"habitantes\": 1330000, \"latitud\": \"59.4370\", \"longitud\": \"24.7452\"}}, {\"pais\": \"Finlandia”, \"},{ \"info\": {\"ciudades\": [\"Helsinki\", \"Tampere\", \"Turku\"], \"habitantes\": 5500000, \"latitud\": \"60.1699\", \"longitud\": \"24.9384\"}}, {\"pais\": \"Francia”, \"},{ \"info\": {\"ciudades\": [\"París\", \"Marsella\", \"Lyon\"], \"habitantes\": 67000000, \"latitud\": \"48.8566\", \"longitud\": \"2.3522\"}}, {\"pais\": \"Grecia”, \"},{ \"info\": {\"ciudades\": [\"Atenas\", \"Salónica\", \"Patras\"], \"habitantes\": 10400000, \"latitud\": \"37.9839\", \"longitud\": \"23.7275\"}}, {\"pais\": \"Hungría”, \"},{ \"info\": {\"ciudades\": [\"Budapest\", \"Debrecen\", \"Miskolc\"], \"habitantes\": 9600000, \"latitud\": \"47.4979\", \"longitud\": \"19.0402\"}}, {\"pais\": \"Irlanda”, \"},{ \"info\": {\"ciudades\": [\"Dublín\", \"Cork\", \"Galway\"], \"habitantes\": 4900000, \"latitud\": \"53.3498\", \"longitud\": \"-6.2603\"}}, {\"pais\": \"Italia”, \"},{ \"info\": {\"ciudades\": [\"Roma\", \"Milán\", \"Nápoles\"], \"habitantes\": 60000000, \"latitud\": \"41.9028\", \"longitud\": \"12.4964\"}}, {\"pais\": \"Letonia”, \"},{ \"info\": {\"ciudades\": [\"Riga\", \"Daugavpils\", \"Liepaja\"], \"habitantes\": 1900000, \"latitud\": \"56.9496\", \"longitud\": \"24.1052\"}}, {\"pais\": \"Lituania”, \"},{ \"info\": {\"ciudades\": [\"Vilna\", \"Kaunas\", \"Klaipeda\"], \"habitantes\": 2700000, \"latitud\": \"54.6872\", \"longitud\": \"25.2797\"}}, {\"pais\": \"Luxemburgo”, \"},{ \"info\": {\"ciudades\": [\"Luxemburgo\", \"Esch-sur-Alzette\", \"Differdange\"], \"habitantes\": 630000, \"latitud\": \"49.8153\", \"longitud\": \"6.1296\"}}, {\"pais\": \"Malta”, \"},{ \"info\": {\"ciudades\": [\"La Valeta\", \"Birkirkara\", \"Qormi\"], \"habitantes\": 520000, \"latitud\": \"35.9375\", \"longitud\": \"14.5001\"}}, {\"pais\": \"Países Bajos”, \"},{ \"info\": {\"ciudades\": [\"Ámsterdam\", \"Rotterdam\", \"La Haya\"], \"habitantes\": 17000000, \"latitud\": \"52.3676\", \"longitud\": \"4.9041\"}}, {\"pais\": \"Polonia”, \"},{ \"info\": {\"ciudades\": [\"Varsovia\", \"Cracovia\", \"Łódź\"], \"habitantes\": 38000000, \"latitud\": \"52.2297\", \"longitud\": \"21.0122\"}}, {\"pais\": \"Portugal”, \"},{ \"info\": {\"ciudades\": [\"Lisboa\", \"Oporto\", \"Braga\"], \"habitantes\": 10300000, \"latitud\": \"38.7223\", \"longitud\": \"-9.1393\"}}, {\"pais\": \"Reino Unido”, \"},{ \"info\": {\"ciudades\": [\"Londres\", \"Birmingham\", \"Leeds\"], \"habitantes\": 67000000, \"latitud\": \"51.5074\", \"longitud\": \"-0.1278\"}}, {\"pais\": \"República Checa”, \"},{ \"info\": {\"ciudades\": [\"Praga\", \"Brno\", \"Pilsen\"], \"habitantes\": 10700000, \"latitud\": \"50.0755\", \"longitud\": \"14.4378\"}}, {\"pais\": \"Rumania”, \"},{ \"info\": {\"ciudades\": [\"Bucarest\", \"Iași\", \"Cluj-Napoca\"], \"habitantes\": 19000000, \"latitud\": \"44.4268\", \"longitud\": \"26.1025\"}}, {\"pais\": \"Suecia”, \"},{ \"info\": {\"ciudades\": [\"Estocolmo\", \"Gotemburgo\", \"Malmö\"], \"habitantes\": 10000000, \"latitud\": \"59.3293\", \"longitud\": \"18.0686\"}}]\n"
     ]
    }
   ],
   "source": [
    "print(response.text)"
   ]
  },
  {
   "cell_type": "markdown",
   "id": "c73ccae7-17b8-4c39-9465-a75592a7cb96",
   "metadata": {},
   "source": [
    "## Otro formato"
   ]
  },
  {
   "cell_type": "code",
   "execution_count": 24,
   "id": "67cc59f5-ebc1-431d-866d-f087420fe3b2",
   "metadata": {},
   "outputs": [],
   "source": [
    "model = genai.GenerativeModel(\n",
    "    model_name = MODEL_NAME,\n",
    ")"
   ]
  },
  {
   "cell_type": "code",
   "execution_count": 25,
   "id": "42337738-382b-416f-9bd3-f3608a42a3ca",
   "metadata": {},
   "outputs": [],
   "source": [
    "image_path = \"https://turismocuatro.com/wp-content/uploads/2015/05/cudillero.jpg\"\n",
    "image = httpx.get(image_path)"
   ]
  },
  {
   "cell_type": "code",
   "execution_count": 26,
   "id": "6e5e2c97-2870-4b11-8745-60de81e58d2f",
   "metadata": {},
   "outputs": [],
   "source": [
    "user_prompt = \"¿Qué es lo que predomina en la imagen?\""
   ]
  },
  {
   "cell_type": "code",
   "execution_count": 27,
   "id": "901e9119-1f2c-46f7-8652-a7ffeeeec4e2",
   "metadata": {},
   "outputs": [],
   "source": [
    "class Type(enum.Enum):\n",
    "    PUEBLO = \"Pueblo\"\n",
    "    CIUDAD = \"Ciudad\"\n",
    "    BOSQUE = \"Bosque\"\n",
    "    MAR = \"Mar\"\n",
    "    MONTAÑA = \"Montaña\""
   ]
  },
  {
   "cell_type": "code",
   "execution_count": 28,
   "id": "b68bda5e-15a1-4126-8130-c435da925551",
   "metadata": {},
   "outputs": [],
   "source": [
    "response = model.generate_content(\n",
    "    [{'mime_type':'image/jpeg', 'data': base64.b64encode(image.content).decode('utf-8')}, user_prompt],\n",
    "    generation_config = genai.GenerationConfig(\n",
    "        response_mime_type = \"text/x.enum\", response_schema = Type\n",
    "    ),\n",
    ")"
   ]
  },
  {
   "cell_type": "code",
   "execution_count": 29,
   "id": "f3c45561-856f-41ae-9410-41e1fb46bd21",
   "metadata": {},
   "outputs": [
    {
     "name": "stdout",
     "output_type": "stream",
     "text": [
      "Pueblo\n"
     ]
    }
   ],
   "source": [
    "print(response.text)"
   ]
  },
  {
   "cell_type": "code",
   "execution_count": null,
   "id": "eb76fca1-c7e6-4449-b5cb-091c430d4992",
   "metadata": {},
   "outputs": [],
   "source": []
  }
 ],
 "metadata": {
  "kernelspec": {
   "display_name": "Python 3 (ipykernel)",
   "language": "python",
   "name": "python3"
  },
  "language_info": {
   "codemirror_mode": {
    "name": "ipython",
    "version": 3
   },
   "file_extension": ".py",
   "mimetype": "text/x-python",
   "name": "python",
   "nbconvert_exporter": "python",
   "pygments_lexer": "ipython3",
   "version": "3.11.11"
  }
 },
 "nbformat": 4,
 "nbformat_minor": 5
}
