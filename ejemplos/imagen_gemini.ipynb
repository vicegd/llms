{
 "cells": [
  {
   "cell_type": "markdown",
   "id": "24ed0295-6f5e-4b2f-9601-c3239ca3652a",
   "metadata": {},
   "source": [
    "# IMÁGENES con Gemini\n",
    "\n",
    "## Importaciones"
   ]
  },
  {
   "cell_type": "code",
   "execution_count": 1,
   "id": "4e2a9393-7767-488e-a8bf-27c12dca35bd",
   "metadata": {},
   "outputs": [],
   "source": [
    "import os\n",
    "from dotenv import load_dotenv\n",
    "import google.generativeai as genai #specific provider library\n",
    "import httpx, base64\n",
    "import PIL.Image"
   ]
  },
  {
   "cell_type": "markdown",
   "id": "6900b2a8-6384-4316-8aaa-5e519fca4254",
   "metadata": {},
   "source": [
    "## Clave de la API"
   ]
  },
  {
   "cell_type": "code",
   "execution_count": 2,
   "id": "7b87cadb-d513-4303-baee-a37b6f938e4d",
   "metadata": {},
   "outputs": [
    {
     "name": "stdout",
     "output_type": "stream",
     "text": [
      "Se ha encontrado la clave de la API correctamente\n"
     ]
    }
   ],
   "source": [
    "# Cargamos las variables de entorno desde .env e inicialiÇzamos la constante API_KEY\n",
    "load_dotenv(override=True)\n",
    "API_KEY = os.getenv('GEMINI_API_KEY') #si se llama así, no hace falta introducirla en el constructor de OpenAI\n",
    "\n",
    "if not API_KEY:\n",
    "    print(\"ERROR: No se ha encontrado la clave de la API\")\n",
    "else:\n",
    "    print(\"Se ha encontrado la clave de la API correctamente\")"
   ]
  },
  {
   "cell_type": "markdown",
   "id": "f5da740c-4ee7-41ac-9935-90558f6f85c1",
   "metadata": {},
   "source": [
    "## Iniciación"
   ]
  },
  {
   "cell_type": "code",
   "execution_count": 3,
   "id": "019974d9-f3ad-4a8a-b5f9-0a3719aea2d3",
   "metadata": {},
   "outputs": [],
   "source": [
    "MODEL_NAME = \"gemini-1.5-flash\"\n",
    "genai.configure(api_key=API_KEY) "
   ]
  },
  {
   "cell_type": "code",
   "execution_count": 4,
   "id": "4c984928-e7b5-4bbd-9ad1-020c2f53c9c3",
   "metadata": {},
   "outputs": [],
   "source": [
    "system_prompt = \"Utiliza un tono simpático\"\n",
    "#system_prompt = \"Utiliza un tono enfadado\""
   ]
  },
  {
   "cell_type": "code",
   "execution_count": 5,
   "id": "4e166f69-e1ed-4727-b561-01c009ffc079",
   "metadata": {},
   "outputs": [],
   "source": [
    "model = genai.GenerativeModel(\n",
    "    model_name = MODEL_NAME,\n",
    "    system_instruction = system_prompt,\n",
    "    generation_config = genai.GenerationConfig(\n",
    "        max_output_tokens = 1000,\n",
    "        temperature = 0.1,\n",
    "    ),\n",
    ")"
   ]
  },
  {
   "cell_type": "markdown",
   "id": "d06e8d78-ce4c-4b05-aa8e-17050c82bb47",
   "metadata": {},
   "source": [
    "## Una imagen en local"
   ]
  },
  {
   "cell_type": "code",
   "execution_count": 6,
   "id": "ea782258-fd24-405b-a504-ecf8d82557df",
   "metadata": {
    "jupyter": {
     "source_hidden": true
    }
   },
   "outputs": [],
   "source": [
    "image = PIL.Image.open(\"recursos/huerta.jpg\")"
   ]
  },
  {
   "cell_type": "code",
   "execution_count": 7,
   "id": "2d53d40a-69b6-4172-85c4-817d8dd09e15",
   "metadata": {},
   "outputs": [],
   "source": [
    "user_prompt = \"Por favor, explícame que hay en la imagen. Trata de detallar tanto como puedas. Además dime qué título pondrías a la imagen\""
   ]
  },
  {
   "cell_type": "code",
   "execution_count": 8,
   "id": "905b9919-aba7-45b5-ae65-81b3d1d78e34",
   "metadata": {},
   "outputs": [],
   "source": [
    "response = model.generate_content(\n",
    "    [user_prompt, image],\n",
    ")"
   ]
  },
  {
   "cell_type": "code",
   "execution_count": 9,
   "id": "f3f0c9d4-1922-4e70-8a9c-350371dd75c3",
   "metadata": {},
   "outputs": [
    {
     "name": "stdout",
     "output_type": "stream",
     "text": [
      "Claro que sí, aquí tienes una descripción de la imagen y un posible título:\n",
      "\n",
      "La imagen muestra a cuatro adultos, dos hombres y dos mujeres, trabajando juntos en un jardín comunitario. Parecen estar plantando o trasplantando plántulas en cajas de madera elevadas. Están sonriendo y parecen disfrutar de su tiempo juntos.\n",
      "\n",
      "El hombre de la izquierda lleva una camiseta beige y pantalones vaqueros. La mujer de la izquierda lleva una camisa a cuadros y pantalones negros. La mujer del centro lleva un jersey de color crema y pantalones oscuros. El hombre de la derecha lleva una chaqueta vaquera y una camiseta blanca. Todos llevan guantes de jardinería.\n",
      "\n",
      "El ambiente es cálido y soleado, y el fondo muestra edificios de ladrillo y vegetación. Las plantas del jardín parecen estar sanas y bien cuidadas. La imagen transmite una sensación de comunidad, trabajo en equipo y disfrute de la naturaleza.\n",
      "\n",
      "**Posibles títulos:**\n",
      "\n",
      "* **Cultivando la comunidad:** Este título destaca el aspecto comunitario de la imagen.\n",
      "* **Manos a la tierra:** Este título es corto, dulce y evocador.\n",
      "* **La alegría de la jardinería:** Este título se centra en el aspecto positivo de la imagen.\n",
      "* **Amigos en el jardín:** Este título es sencillo y directo.\n",
      "* **Un jardín comunitario floreciente:** Este título es más descriptivo y evoca una sensación de crecimiento y prosperidad.\n",
      "\n",
      "Espero que esto te ayude.\n"
     ]
    }
   ],
   "source": [
    "print(response.text)"
   ]
  },
  {
   "cell_type": "markdown",
   "id": "835b0e31-b512-450e-9f67-a8c40a956cdb",
   "metadata": {},
   "source": [
    "## Dos imágenes en local"
   ]
  },
  {
   "cell_type": "code",
   "execution_count": 10,
   "id": "beccb396-5cd4-4c3e-ae44-0d7731b4ab8d",
   "metadata": {},
   "outputs": [],
   "source": [
    "image2 = PIL.Image.open(\"recursos/campo.jpg\")"
   ]
  },
  {
   "cell_type": "code",
   "execution_count": 11,
   "id": "3288ea17-828f-4db3-b43c-f96137a33bcd",
   "metadata": {},
   "outputs": [],
   "source": [
    "user_prompt = \"Por favor, explícame las similtudes y diferencias entre ambas imágenes\""
   ]
  },
  {
   "cell_type": "code",
   "execution_count": 12,
   "id": "f90e0fce-cffa-4229-be00-8c56b1ea48eb",
   "metadata": {},
   "outputs": [],
   "source": [
    "response = model.generate_content(\n",
    "    [user_prompt, image, image2],\n",
    ")"
   ]
  },
  {
   "cell_type": "code",
   "execution_count": 13,
   "id": "48b52d79-13a5-4d52-a0c5-ee8a6b8bb9a4",
   "metadata": {},
   "outputs": [
    {
     "name": "stdout",
     "output_type": "stream",
     "text": [
      "Claro que sí, puedo ayudarte con eso. Aquí tienes una comparación de las dos imágenes que has proporcionado:\n",
      "\n",
      "**Similitudes:**\n",
      "\n",
      "* **Conexión con la naturaleza:** Ambas imágenes muestran una conexión con la naturaleza. La primera muestra a personas cultivando plantas, mientras que la segunda muestra un paisaje natural con arrozales. Ambas imágenes transmiten una sensación de paz y tranquilidad.\n",
      "* **Trabajo y esfuerzo:** Ambas imágenes muestran trabajo y esfuerzo. La primera muestra a personas trabajando juntas en un jardín, mientras que la segunda muestra el trabajo que se necesita para cultivar arroz en terrazas.\n",
      "* **Belleza:** Ambas imágenes son visualmente atractivas y muestran la belleza de la naturaleza. La primera muestra la belleza de las plantas y las personas que trabajan juntas, mientras que la segunda muestra la belleza de un paisaje natural.\n",
      "\n",
      "**Diferencias:**\n",
      "\n",
      "* **Escala:** La primera imagen es a pequeña escala, mostrando a un pequeño grupo de personas trabajando juntas en un jardín. La segunda imagen es a gran escala, mostrando un paisaje extenso con arrozales.\n",
      "* **Ubicación:** La primera imagen parece estar en un entorno urbano o suburbano, mientras que la segunda imagen parece estar en un entorno rural.\n",
      "* **Actividad:** La primera imagen muestra a personas cultivando plantas en un jardín comunitario, mientras que la segunda imagen muestra arrozales en una zona rural.\n",
      "* **Contexto social:** La primera imagen muestra una interacción social entre las personas que trabajan juntas, mientras que la segunda imagen no muestra ninguna interacción social.\n",
      "\n",
      "En resumen, ambas imágenes muestran la belleza de la naturaleza y el trabajo que se necesita para cultivar alimentos, pero difieren en escala, ubicación, actividad y contexto social. La primera imagen es más íntima y centrada en la interacción humana, mientras que la segunda es más amplia y centrada en la belleza del paisaje.\n"
     ]
    }
   ],
   "source": [
    "print(response.text)"
   ]
  },
  {
   "cell_type": "markdown",
   "id": "8ac423c1-01e7-499d-a10b-ca7b019e59b0",
   "metadata": {},
   "source": [
    "## Una imagen en remoto"
   ]
  },
  {
   "cell_type": "code",
   "execution_count": 14,
   "id": "cad7a999-bf02-4a30-b034-fdcee5234044",
   "metadata": {},
   "outputs": [],
   "source": [
    "image_path = \"https://turismocuatro.com/wp-content/uploads/2015/05/cudillero.jpg\"\n",
    "image = httpx.get(image_path)"
   ]
  },
  {
   "cell_type": "code",
   "execution_count": 15,
   "id": "efb24f04-66d9-4198-b3bb-d7fe7613a80a",
   "metadata": {},
   "outputs": [],
   "source": [
    "user_prompt = \"Por favor, ponle título a la imagen\""
   ]
  },
  {
   "cell_type": "code",
   "execution_count": 16,
   "id": "ed5a2379-6b3b-4357-941c-20ddc9f43ecb",
   "metadata": {},
   "outputs": [],
   "source": [
    "import pathlib\n",
    "\n",
    "response = model.generate_content([\n",
    "    {'mime_type':'image/jpeg', 'data': base64.b64encode(image.content).decode('utf-8')}, \n",
    "    #se pueden poner varias imágenes, una a una\n",
    "     user_prompt]\n",
    ")"
   ]
  },
  {
   "cell_type": "code",
   "execution_count": 17,
   "id": "6b52df7f-48d3-49eb-a606-fcd6834f6d1d",
   "metadata": {},
   "outputs": [
    {
     "name": "stdout",
     "output_type": "stream",
     "text": [
      "Claro, aquí tienes algunos títulos para la imagen:\n",
      "\n",
      "* **Casas de colores en una colina**\n",
      "* **Pueblo pintoresco en una ladera**\n",
      "* **Arquitectura vibrante en un pueblo costero**\n",
      "* **Un día en Cudillero** (si la imagen es de Cudillero, Asturias, España)\n",
      "* **Cafetería en un pueblo colorido**\n",
      "\n",
      "Espero que esto ayude. Avísame si necesitas más sugerencias.\n"
     ]
    }
   ],
   "source": [
    "print(response.text)"
   ]
  }
 ],
 "metadata": {
  "kernelspec": {
   "display_name": "Python 3 (ipykernel)",
   "language": "python",
   "name": "python3"
  },
  "language_info": {
   "codemirror_mode": {
    "name": "ipython",
    "version": 3
   },
   "file_extension": ".py",
   "mimetype": "text/x-python",
   "name": "python",
   "nbconvert_exporter": "python",
   "pygments_lexer": "ipython3",
   "version": "3.11.11"
  }
 },
 "nbformat": 4,
 "nbformat_minor": 5
}
