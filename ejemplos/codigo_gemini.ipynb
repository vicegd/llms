{
 "cells": [
  {
   "cell_type": "markdown",
   "id": "24ed0295-6f5e-4b2f-9601-c3239ca3652a",
   "metadata": {},
   "source": [
    "# CÓDIGO con Gemini\n",
    "\n",
    "## Importaciones"
   ]
  },
  {
   "cell_type": "code",
   "execution_count": 93,
   "id": "4e2a9393-7767-488e-a8bf-27c12dca35bd",
   "metadata": {},
   "outputs": [],
   "source": [
    "import os\n",
    "from dotenv import load_dotenv\n",
    "import google.generativeai as genai"
   ]
  },
  {
   "cell_type": "markdown",
   "id": "6900b2a8-6384-4316-8aaa-5e519fca4254",
   "metadata": {},
   "source": [
    "## Clave de la API"
   ]
  },
  {
   "cell_type": "code",
   "execution_count": 94,
   "id": "7b87cadb-d513-4303-baee-a37b6f938e4d",
   "metadata": {},
   "outputs": [
    {
     "name": "stdout",
     "output_type": "stream",
     "text": [
      "Se ha encontrado la clave de la API correctamente\n"
     ]
    }
   ],
   "source": [
    "# Cargamos las variables de entorno desde .env e inicialiÇzamos la constante API_KEY\n",
    "load_dotenv(override=True)\n",
    "API_KEY = os.getenv('GEMINI_API_KEY') #si se llama así, no hace falta introducirla en el constructor de OpenAI\n",
    "\n",
    "if not API_KEY:\n",
    "    print(\"ERROR: No se ha encontrado la clave de la API\")\n",
    "else:\n",
    "    print(\"Se ha encontrado la clave de la API correctamente\")"
   ]
  },
  {
   "cell_type": "markdown",
   "id": "f5da740c-4ee7-41ac-9935-90558f6f85c1",
   "metadata": {},
   "source": [
    "## Iniciación"
   ]
  },
  {
   "cell_type": "code",
   "execution_count": 105,
   "id": "019974d9-f3ad-4a8a-b5f9-0a3719aea2d3",
   "metadata": {},
   "outputs": [],
   "source": [
    "MODEL_NAME = \"gemini-2.0-flash\"\n",
    "genai.configure(api_key=API_KEY) "
   ]
  },
  {
   "cell_type": "code",
   "execution_count": 106,
   "id": "4c984928-e7b5-4bbd-9ad1-020c2f53c9c3",
   "metadata": {},
   "outputs": [],
   "source": [
    "system_prompt = \"Utiliza un tono amable\"\n",
    "#system_prompt = \"Utiliza un tono enfadado\""
   ]
  },
  {
   "cell_type": "code",
   "execution_count": 107,
   "id": "4e166f69-e1ed-4727-b561-01c009ffc079",
   "metadata": {},
   "outputs": [],
   "source": [
    "model = genai.GenerativeModel(\n",
    "    model_name = MODEL_NAME,\n",
    "    system_instruction = system_prompt,\n",
    "    generation_config = genai.GenerationConfig(\n",
    "        #max_output_tokens = 1000,\n",
    "        #temperature = 0.1,\n",
    "    ),\n",
    "    #tools='code_execution',\n",
    ")\n"
   ]
  },
  {
   "cell_type": "markdown",
   "id": "d06e8d78-ce4c-4b05-aa8e-17050c82bb47",
   "metadata": {},
   "source": [
    "## Generación de código"
   ]
  },
  {
   "cell_type": "code",
   "execution_count": 108,
   "id": "2d53d40a-69b6-4172-85c4-817d8dd09e15",
   "metadata": {},
   "outputs": [],
   "source": [
    "user_prompt = \"Calcula el décimo número de Fibonacci. Crea un código en Python que lo calcule. Usa 'code_execution' tool\""
   ]
  },
  {
   "cell_type": "code",
   "execution_count": 109,
   "id": "905b9919-aba7-45b5-ae65-81b3d1d78e34",
   "metadata": {},
   "outputs": [],
   "source": [
    "response = model.generate_content(\n",
    "    user_prompt,\n",
    "    tools='code_execution'\n",
    ")"
   ]
  },
  {
   "cell_type": "code",
   "execution_count": 110,
   "id": "72c8dc25-b321-4119-b3d7-6a9a466551cc",
   "metadata": {},
   "outputs": [
    {
     "name": "stdout",
     "output_type": "stream",
     "text": [
      "¡Claro! Estaré encantado de ayudarte con eso. Aquí está el código en Python para calcular el décimo número de Fibonacci, junto con una explicación:\n",
      "\n",
      "\n",
      "``` python\n",
      "def fibonacci(n):\n",
      "  \"\"\"Calcula el n-ésimo número de Fibonacci de forma recursiva.\"\"\"\n",
      "  if n <= 0:\n",
      "    return 0\n",
      "  elif n == 1:\n",
      "    return 1\n",
      "  else:\n",
      "    return fibonacci(n-1) + fibonacci(n-2)\n",
      "\n",
      "# Calcula el décimo número de Fibonacci\n",
      "decimo_fibonacci = fibonacci(10)\n",
      "print(f\"El décimo número de Fibonacci es: {decimo_fibonacci}\")\n",
      "\n",
      "```\n",
      "```\n",
      "El décimo número de Fibonacci es: 55\n",
      "\n",
      "```\n",
      "El código define una función llamada `fibonacci(n)` que calcula el n-ésimo número de Fibonacci utilizando recursión. La función tiene los siguientes pasos:\n",
      "\n",
      "1.  Si `n` es menor o igual a 0, devuelve 0.\n",
      "2.  Si `n` es igual a 1, devuelve 1.\n",
      "3.  En caso contrario, devuelve la suma de los dos números de Fibonacci anteriores, que son `fibonacci(n-1)` y `fibonacci(n-2)`.\n",
      "\n",
      "Finalmente, el código llama a la función `fibonacci(10)` para calcular el décimo número de Fibonacci y lo imprime. El resultado es 55.\n",
      "\n",
      "¡Espero que esto te sea útil! Avísame si tienes alguna otra pregunta.\n",
      "\n"
     ]
    }
   ],
   "source": [
    "print(response.text)"
   ]
  },
  {
   "cell_type": "code",
   "execution_count": null,
   "id": "3d3e5dad-8628-4cf7-8e4a-3c7f31f20d71",
   "metadata": {},
   "outputs": [],
   "source": []
  }
 ],
 "metadata": {
  "kernelspec": {
   "display_name": "Python 3 (ipykernel)",
   "language": "python",
   "name": "python3"
  },
  "language_info": {
   "codemirror_mode": {
    "name": "ipython",
    "version": 3
   },
   "file_extension": ".py",
   "mimetype": "text/x-python",
   "name": "python",
   "nbconvert_exporter": "python",
   "pygments_lexer": "ipython3",
   "version": "3.11.11"
  }
 },
 "nbformat": 4,
 "nbformat_minor": 5
}
