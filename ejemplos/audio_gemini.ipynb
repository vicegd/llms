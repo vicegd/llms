{
 "cells": [
  {
   "cell_type": "markdown",
   "id": "24ed0295-6f5e-4b2f-9601-c3239ca3652a",
   "metadata": {},
   "source": [
    "# AUDIOS con Gemini\n",
    "\n",
    "## Importaciones"
   ]
  },
  {
   "cell_type": "code",
   "execution_count": 1,
   "id": "4e2a9393-7767-488e-a8bf-27c12dca35bd",
   "metadata": {},
   "outputs": [],
   "source": [
    "import os, time\n",
    "from dotenv import load_dotenv\n",
    "import google.generativeai as genai #specific provider library\n",
    "from IPython.display import Markdown\n",
    "import pathlib"
   ]
  },
  {
   "cell_type": "markdown",
   "id": "6900b2a8-6384-4316-8aaa-5e519fca4254",
   "metadata": {},
   "source": [
    "## Clave de la API"
   ]
  },
  {
   "cell_type": "code",
   "execution_count": 2,
   "id": "7b87cadb-d513-4303-baee-a37b6f938e4d",
   "metadata": {},
   "outputs": [
    {
     "name": "stdout",
     "output_type": "stream",
     "text": [
      "Se ha encontrado la clave de la API correctamente\n"
     ]
    }
   ],
   "source": [
    "# Cargamos las variables de entorno desde .env e inicialiÇzamos la constante API_KEY\n",
    "load_dotenv(override=True)\n",
    "API_KEY = os.getenv('GEMINI_API_KEY') #si se llama así, no hace falta introducirla en el constructor de OpenAI\n",
    "\n",
    "if not API_KEY:\n",
    "    print(\"ERROR: No se ha encontrado la clave de la API\")\n",
    "else:\n",
    "    print(\"Se ha encontrado la clave de la API correctamente\")"
   ]
  },
  {
   "cell_type": "markdown",
   "id": "f5da740c-4ee7-41ac-9935-90558f6f85c1",
   "metadata": {},
   "source": [
    "## Iniciación"
   ]
  },
  {
   "cell_type": "code",
   "execution_count": 3,
   "id": "019974d9-f3ad-4a8a-b5f9-0a3719aea2d3",
   "metadata": {},
   "outputs": [],
   "source": [
    "MODEL_NAME = \"gemini-1.5-flash\"\n",
    "genai.configure(api_key=API_KEY) "
   ]
  },
  {
   "cell_type": "code",
   "execution_count": 4,
   "id": "4c984928-e7b5-4bbd-9ad1-020c2f53c9c3",
   "metadata": {},
   "outputs": [],
   "source": [
    "system_prompt = \"Utiliza un tono simpático\"\n",
    "#system_prompt = \"Utiliza un tono enfadado\""
   ]
  },
  {
   "cell_type": "code",
   "execution_count": 5,
   "id": "4e166f69-e1ed-4727-b561-01c009ffc079",
   "metadata": {},
   "outputs": [],
   "source": [
    "model = genai.GenerativeModel(\n",
    "    model_name = MODEL_NAME,\n",
    "    system_instruction = system_prompt,\n",
    "    generation_config = genai.GenerationConfig(\n",
    "        #max_output_tokens = 1000,\n",
    "        #temperature = 0.1,\n",
    "    ),\n",
    ")\n"
   ]
  },
  {
   "cell_type": "markdown",
   "id": "d06e8d78-ce4c-4b05-aa8e-17050c82bb47",
   "metadata": {},
   "source": [
    "## Un audio en la API de File"
   ]
  },
  {
   "cell_type": "code",
   "execution_count": 6,
   "id": "ea782258-fd24-405b-a504-ecf8d82557df",
   "metadata": {},
   "outputs": [],
   "source": [
    "audio = \"recursos/turnedo.mp3\"\n",
    "audio_file = genai.upload_file(path=audio)"
   ]
  },
  {
   "cell_type": "code",
   "execution_count": 7,
   "id": "50bf05e2-eec9-4f9a-abd2-ea51d5a3a801",
   "metadata": {},
   "outputs": [
    {
     "name": "stdout",
     "output_type": "stream",
     "text": [
      "genai.File({\n",
      "    'name': 'files/j9p2cnw93q18',\n",
      "    'display_name': 'turnedo.mp3',\n",
      "    'mime_type': 'audio/mpeg',\n",
      "    'sha256_hash': 'NGIxZTA0YTlhMTViNWI0YTRhZmYyNjQwOGQwOWEyMTliYjg2NjIzZDRlNjEwOGJiYTQ3MzFiZDA4MDljMjYyNw==',\n",
      "    'size_bytes': '3400651',\n",
      "    'state': 'ACTIVE',\n",
      "    'uri': 'https://generativelanguage.googleapis.com/v1beta/files/j9p2cnw93q18',\n",
      "    'create_time': '2025-02-02T15:58:53.419271Z',\n",
      "    'expiration_time': '2025-02-04T15:58:53.364985698Z',\n",
      "    'update_time': '2025-02-02T15:58:53.419271Z'})\n"
     ]
    }
   ],
   "source": [
    "print(audio_file)"
   ]
  },
  {
   "cell_type": "code",
   "execution_count": 8,
   "id": "f4e9ac47-ddf2-4c4a-9055-2c886795f8cc",
   "metadata": {},
   "outputs": [],
   "source": [
    "while audio_file.state.name == \"PROCESSING\":\n",
    "    print('.', end='')\n",
    "    time.sleep(10)\n",
    "    audio_file = genai.get_file(audio_file.name)\n",
    "\n",
    "if audio_file.state.name == \"FAILED\":\n",
    "  raise ValueError(audio_file.state.name)"
   ]
  },
  {
   "cell_type": "code",
   "execution_count": 9,
   "id": "2d53d40a-69b6-4172-85c4-817d8dd09e15",
   "metadata": {},
   "outputs": [],
   "source": [
    "user_prompt = \"Por favor, dime una transcripción del audio\""
   ]
  },
  {
   "cell_type": "code",
   "execution_count": 10,
   "id": "905b9919-aba7-45b5-ae65-81b3d1d78e34",
   "metadata": {},
   "outputs": [],
   "source": [
    "response = model.generate_content(\n",
    "    [user_prompt, audio_file],\n",
    "    request_options={\"timeout\": 10},\n",
    ")"
   ]
  },
  {
   "cell_type": "code",
   "execution_count": 11,
   "id": "f3f0c9d4-1922-4e70-8a9c-350371dd75c3",
   "metadata": {},
   "outputs": [
    {
     "name": "stdout",
     "output_type": "stream",
     "text": [
      "Claro que sí, aquí tienes una transcripción del audio que has proporcionado:\n",
      "\n",
      "Desde aquí, desde mi casa, veo la playa vacía. Ya lo estaba hace dos días. Ahora está llena de lluvia. Tú sigues sin paraguas, sin tu ropa, paseando como una tarde de Julio, pero con frío y tronando. Se puede saber qué esperas? Que te mire, que te seque, que te vea y que me quede tomando la luna juntos, la luna tú y yo expectantes a que pase algún cometa, algún platillo volante. Y la playa llora y llora, y desde mi casa grito. Aunque pienso en abrazarte, aunque pienso en ir contigo, el doctor me recomienda que no me quite mi abrigo, que no esté ya más contigo. Yo no puedo negarme, pues el tipo soy yo mismo, estudiando un trastorno y aún repaso las lecciones una a una cada día. Yo no puedo aconsejarte, ya es muy duro lo que llevo. Dejemos que corra el aire y digamos adiós.\n",
      "\n",
      "\n",
      "Aunque sigas suspirando por algo que no era cierto, me lo dicen en los bares, es algo que llevas dentro. Que no quieres que te quiera, solo quieres que te abrace, y publicas que no tuviste el valor para quedarme. Yo rompí todas tus fotos, tú no dejas de llamarme. Quien no tiene el valor para marcharse, quien no tiene el valor para marcharse, quien no tiene el valor para marcharse, quien prefiere quedarse y aguantar. Marcharse y aguantar.\n",
      "\n",
      "\n",
      "Espero que esto te sea útil. ¡Que tengas un buen día!\n",
      "\n"
     ]
    }
   ],
   "source": [
    "print(response.text)"
   ]
  },
  {
   "cell_type": "code",
   "execution_count": 12,
   "id": "82482132-f9d8-4d10-8130-97073df86df1",
   "metadata": {},
   "outputs": [
    {
     "data": {
      "text/markdown": [
       "Claro que sí, aquí tienes una transcripción del audio que has proporcionado:\n",
       "\n",
       "Desde aquí, desde mi casa, veo la playa vacía. Ya lo estaba hace dos días. Ahora está llena de lluvia. Tú sigues sin paraguas, sin tu ropa, paseando como una tarde de Julio, pero con frío y tronando. Se puede saber qué esperas? Que te mire, que te seque, que te vea y que me quede tomando la luna juntos, la luna tú y yo expectantes a que pase algún cometa, algún platillo volante. Y la playa llora y llora, y desde mi casa grito. Aunque pienso en abrazarte, aunque pienso en ir contigo, el doctor me recomienda que no me quite mi abrigo, que no esté ya más contigo. Yo no puedo negarme, pues el tipo soy yo mismo, estudiando un trastorno y aún repaso las lecciones una a una cada día. Yo no puedo aconsejarte, ya es muy duro lo que llevo. Dejemos que corra el aire y digamos adiós.\n",
       "\n",
       "\n",
       "Aunque sigas suspirando por algo que no era cierto, me lo dicen en los bares, es algo que llevas dentro. Que no quieres que te quiera, solo quieres que te abrace, y publicas que no tuviste el valor para quedarme. Yo rompí todas tus fotos, tú no dejas de llamarme. Quien no tiene el valor para marcharse, quien no tiene el valor para marcharse, quien no tiene el valor para marcharse, quien prefiere quedarse y aguantar. Marcharse y aguantar.\n",
       "\n",
       "\n",
       "Espero que esto te sea útil. ¡Que tengas un buen día!\n"
      ],
      "text/plain": [
       "<IPython.core.display.Markdown object>"
      ]
     },
     "execution_count": 12,
     "metadata": {},
     "output_type": "execute_result"
    }
   ],
   "source": [
    "Markdown(response.text)"
   ]
  },
  {
   "cell_type": "code",
   "execution_count": 13,
   "id": "d42e604c-a6b1-47c1-b789-d49010362492",
   "metadata": {},
   "outputs": [],
   "source": [
    "user_prompt = \"¿Cuántas personas están cantando?\""
   ]
  },
  {
   "cell_type": "code",
   "execution_count": 14,
   "id": "6c8ea58b-bee6-4372-a28e-ee5a6b5407b8",
   "metadata": {},
   "outputs": [],
   "source": [
    "response = model.generate_content(\n",
    "    [user_prompt, audio_file],\n",
    "    request_options={\"timeout\": 10},\n",
    ")"
   ]
  },
  {
   "cell_type": "code",
   "execution_count": 15,
   "id": "cc58cb8c-c54c-4053-91ad-3dfc97814a87",
   "metadata": {},
   "outputs": [
    {
     "name": "stdout",
     "output_type": "stream",
     "text": [
      "¡Hola!  Hay dos personas cantando en la grabación. Una voz principal y una voz de acompañamiento, que hace coros y armonías.  Espero que te sirva.\n",
      "\n"
     ]
    }
   ],
   "source": [
    "print(response.text)"
   ]
  },
  {
   "cell_type": "code",
   "execution_count": 16,
   "id": "40a81ea7-52ef-4027-8f56-0e079ca871c6",
   "metadata": {},
   "outputs": [],
   "source": [
    "user_prompt = \"¿Sobre qué trata la canción?\""
   ]
  },
  {
   "cell_type": "code",
   "execution_count": 17,
   "id": "d3b90995-f296-489b-b65c-1929041bf03f",
   "metadata": {},
   "outputs": [],
   "source": [
    "response = model.generate_content(\n",
    "    [user_prompt, audio_file],\n",
    "    request_options={\"timeout\": 10},\n",
    ")"
   ]
  },
  {
   "cell_type": "code",
   "execution_count": 18,
   "id": "00a20332-6c1d-4847-a6ac-1c6ee8806923",
   "metadata": {},
   "outputs": [
    {
     "name": "stdout",
     "output_type": "stream",
     "text": [
      "Claro que sí. La canción trata sobre una persona que observa una playa vacía desde su casa, llena de lluvia.  Observa a alguien allí, sin paraguas, paseando como si fuera una tarde de julio, a pesar del frío y los truenos.  El narrador desea que esa persona espere, que alguien la vea y la consuele.  \n",
      "\n",
      "Luego, la canción toma un giro introspectivo. El narrador reflexiona sobre su propia incapacidad para acercarse a esa persona. Se siente incapaz de ofrecer consuelo o consejo,  y se culpa por sus propios problemas.  La canción menciona el deseo de abrazar a la persona y de ir con ella, pero el narrador se siente impedido por su propio estado emocional o mental (\"el doctor me recomienda que no me quite mi abrigo\").  \n",
      "\n",
      "El final destaca la idea de que la otra persona está sufriendo por algo que no es cierto (quizás un malentendido, una creencia errónea),  y enfatiza la dificultad de esa persona para alejarse o simplemente \"marcharse\".  La repetición de \"quién no tiene el valor para marcharse\" resalta la pasividad y la falta de resolución en la situación, tanto de la persona observada en la playa, como la auto-reflexión del narrador. En resumen, es una canción melancólica sobre la observación de la soledad ajena y la propia incapacidad para intervenir,  mezclando la introspección personal con una situación observada desde la distancia.\n",
      "\n"
     ]
    }
   ],
   "source": [
    "print(response.text)"
   ]
  },
  {
   "cell_type": "code",
   "execution_count": 19,
   "id": "bc6911d2-a8e3-4e39-8f08-a96f435c6d32",
   "metadata": {},
   "outputs": [
    {
     "name": "stdout",
     "output_type": "stream",
     "text": [
      "total_tokens: 6807\n",
      "\n"
     ]
    }
   ],
   "source": [
    "print(model.count_tokens([audio_file]))"
   ]
  },
  {
   "cell_type": "markdown",
   "id": "ab1cc22e-ec69-4b77-b07c-1a38b7ca63d2",
   "metadata": {},
   "source": [
    "## Ver archivos subidos a la plataforma"
   ]
  },
  {
   "cell_type": "code",
   "execution_count": 20,
   "id": "db2a173c-c9b7-4ab2-8077-e894716b7ecc",
   "metadata": {},
   "outputs": [
    {
     "name": "stdout",
     "output_type": "stream",
     "text": [
      "   genai.File({\n",
      "    'name': 'files/j9p2cnw93q18',\n",
      "    'display_name': 'turnedo.mp3',\n",
      "    'mime_type': 'audio/mpeg',\n",
      "    'sha256_hash': 'NGIxZTA0YTlhMTViNWI0YTRhZmYyNjQwOGQwOWEyMTliYjg2NjIzZDRlNjEwOGJiYTQ3MzFiZDA4MDljMjYyNw==',\n",
      "    'size_bytes': '3400651',\n",
      "    'state': 'ACTIVE',\n",
      "    'uri': 'https://generativelanguage.googleapis.com/v1beta/files/j9p2cnw93q18',\n",
      "    'create_time': '2025-02-02T15:58:53.419271Z',\n",
      "    'expiration_time': '2025-02-04T15:58:53.364985698Z',\n",
      "    'update_time': '2025-02-02T15:58:53.419271Z'})\n"
     ]
    }
   ],
   "source": [
    "for f in genai.list_files():\n",
    "    print(\"  \", f)"
   ]
  },
  {
   "cell_type": "markdown",
   "id": "84c1dde7-95fb-4cce-af8d-68668c67bda5",
   "metadata": {},
   "source": [
    "## Borrar archivos subidos"
   ]
  },
  {
   "cell_type": "code",
   "execution_count": 21,
   "id": "85cb9e8d-8ad5-41d8-8b17-b15fe77a8444",
   "metadata": {},
   "outputs": [],
   "source": [
    "for f in genai.list_files():\n",
    "    f.delete()"
   ]
  },
  {
   "cell_type": "markdown",
   "id": "7180b093-8aea-4aa7-893f-09f71e472ee6",
   "metadata": {},
   "source": [
    "## Ver archivos subidos"
   ]
  },
  {
   "cell_type": "code",
   "execution_count": 22,
   "id": "c8a60b27-08fb-4759-a41c-a0288cef8707",
   "metadata": {},
   "outputs": [],
   "source": [
    "for f in genai.list_files():\n",
    "    print(\"  \", f.name)"
   ]
  },
  {
   "cell_type": "markdown",
   "id": "45cf36e6-bca1-4aae-832d-ae4c551a2a9d",
   "metadata": {},
   "source": [
    "## Un audio en local"
   ]
  },
  {
   "cell_type": "code",
   "execution_count": 23,
   "id": "3a528674-32f3-46cc-b180-0f61b532a81d",
   "metadata": {},
   "outputs": [],
   "source": [
    "user_prompt = \"Por favor, resume el audio de una forma breve y concisa. Máximo 2 frases\""
   ]
  },
  {
   "cell_type": "code",
   "execution_count": 24,
   "id": "f78e935b-71e9-4473-adf3-87e0d181d142",
   "metadata": {},
   "outputs": [],
   "source": [
    "response = model.generate_content([\n",
    "    user_prompt,\n",
    "    {\n",
    "        \"mime_type\": \"audio/mp3\",\n",
    "        \"data\": pathlib.Path('recursos/turnedo.mp3').read_bytes()\n",
    "    }\n",
    "])"
   ]
  },
  {
   "cell_type": "code",
   "execution_count": 25,
   "id": "0de9cacd-82bd-4a3e-bc9d-cc5043238db3",
   "metadata": {},
   "outputs": [
    {
     "name": "stdout",
     "output_type": "stream",
     "text": [
      "Claro que sí, aquí tienes un resumen del audio:\n",
      "\n",
      "Desde la ventana de su casa, el narrador observa una playa vacía y lluviosa, imaginándose con su ser amado.  A pesar del mal tiempo y la distancia, expresa la imposibilidad de estar juntos y la frustración de una situación complicada.\n",
      "\n"
     ]
    }
   ],
   "source": [
    "print(response.text)"
   ]
  },
  {
   "cell_type": "code",
   "execution_count": null,
   "id": "a128bb73-7488-4950-a5de-569e6b9b1c7a",
   "metadata": {},
   "outputs": [],
   "source": []
  }
 ],
 "metadata": {
  "kernelspec": {
   "display_name": "Python 3 (ipykernel)",
   "language": "python",
   "name": "python3"
  },
  "language_info": {
   "codemirror_mode": {
    "name": "ipython",
    "version": 3
   },
   "file_extension": ".py",
   "mimetype": "text/x-python",
   "name": "python",
   "nbconvert_exporter": "python",
   "pygments_lexer": "ipython3",
   "version": "3.11.11"
  }
 },
 "nbformat": 4,
 "nbformat_minor": 5
}
